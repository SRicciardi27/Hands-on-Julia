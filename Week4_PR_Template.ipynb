{
 "cells": [
  {
   "cell_type": "markdown",
   "metadata": {},
   "source": [
    "# Week 4 Peer Review"
   ]
  },
  {
   "cell_type": "markdown",
   "metadata": {},
   "source": [
    "Week 4 Peer Review - Working with Distributions and DataFrames. To help you with this task, comments are added to each cell."
   ]
  },
  {
   "cell_type": "code",
   "execution_count": 2,
   "metadata": {},
   "outputs": [
    {
     "name": "stdout",
     "output_type": "stream",
     "text": [
      "    \u001b[36m\u001b[1mFetching:\u001b[22m\u001b[39m [========================================>]  100.0 %[36m\u001b[1mFetching:\u001b[22m\u001b[39m [===============>                         ]  35.9 %           ]  71.9 %\u001b[36m\u001b[1mFetching:\u001b[22m\u001b[39m [==============================>          ]  74.3 %\u001b[36m\u001b[1mFetching:\u001b[22m\u001b[39m [========================================>]  97.6 %\r"
     ]
    }
   ],
   "source": [
    "# Import the required packages\n",
    "import Pkg\n",
    "Pkg.add(\"DataFrames\")\n",
    "using Distributions, DataFrames, Random"
   ]
  },
  {
   "cell_type": "code",
   "execution_count": 35,
   "metadata": {},
   "outputs": [],
   "source": [
    "# Seed the random number generator\n",
    "Random.seed!(1234);"
   ]
  },
  {
   "cell_type": "code",
   "execution_count": 30,
   "metadata": {},
   "outputs": [
    {
     "data": {
      "text/plain": [
       "30×3 Matrix{Float64}:\n",
       " 1.4204e-315   1.00999e-314  1.27186e-315\n",
       " 2.0e-323      6.0e-323      1.14e-322\n",
       " 1.0e-323      4.0e-323      8.0e-323\n",
       " 2.28435e-315  1.00999e-314  2.21948e-315\n",
       " 1.14e-322     6.4e-323      2.27e-322\n",
       " 1.5e-323      4.4e-323      9.0e-323\n",
       " 1.27177e-315  5.0e-324      1.27177e-315\n",
       " 2.5e-323      7.0e-323      1.2e-322\n",
       " 1.5e-323      5.0e-323      9.0e-323\n",
       " 1.27177e-315  2.122e-314    1.27186e-315\n",
       " 6.4e-323      7.4e-323      1.3e-322\n",
       " 2.0e-323      5.4e-323      9.4e-323\n",
       " 1.27177e-315  2.21947e-315  2.21948e-315\n",
       " ⋮                           \n",
       " 2.17914e-315  1.27186e-315  1.27177e-315\n",
       " 3.5e-323      9.0e-323      2.27e-322\n",
       " 2.5e-323      6.4e-323      1.04e-322\n",
       " 5.0e-324      1.27186e-315  1.27938e-315\n",
       " 4.4e-323      1.0e-322      1.4e-322\n",
       " 3.0e-323      7.0e-323      1.04e-322\n",
       " 1.00999e-314  1.27261e-315  1.27261e-315\n",
       " 5.4e-323      9.4e-323      1.8e-322\n",
       " 3.5e-323      7.0e-323      1.1e-322\n",
       " 1.00999e-314  1.27177e-315  2.21488e-315\n",
       " 5.0e-323      1.04e-322     0.0\n",
       " 3.5e-323      7.4e-323      0.0"
      ]
     },
     "execution_count": 30,
     "metadata": {},
     "output_type": "execute_result"
    }
   ],
   "source": [
    "# Question 4: Create the 30 x 3 array named array_1\n",
    "array_1 = Array{Float64, 2}(undef,30, 3)"
   ]
  },
  {
   "cell_type": "code",
   "execution_count": 31,
   "metadata": {},
   "outputs": [
    {
     "data": {
      "text/plain": [
       "0.0"
      ]
     },
     "execution_count": 31,
     "metadata": {},
     "output_type": "execute_result"
    }
   ],
   "source": [
    "# Question 5: Mean and variance of column 1\n",
    "mean(array_1[:,1])\n",
    "var(array_1[:,1]) "
   ]
  },
  {
   "cell_type": "code",
   "execution_count": 32,
   "metadata": {},
   "outputs": [
    {
     "data": {
      "text/plain": [
       "0.0"
      ]
     },
     "execution_count": 32,
     "metadata": {},
     "output_type": "execute_result"
    }
   ],
   "source": [
    "# Question 5 (continued): Mean and variance of column 2\n",
    "mean(array_1[:,2])\n",
    "var(array_1[:,2])"
   ]
  },
  {
   "cell_type": "code",
   "execution_count": 33,
   "metadata": {},
   "outputs": [
    {
     "data": {
      "text/plain": [
       "0.0"
      ]
     },
     "execution_count": 33,
     "metadata": {},
     "output_type": "execute_result"
    }
   ],
   "source": [
    "# Question 5 (continued): Mean and variance of column 3\n",
    "mean(array_1[:,3])\n",
    "var(array_1[:,3])"
   ]
  },
  {
   "cell_type": "code",
   "execution_count": 34,
   "metadata": {},
   "outputs": [
    {
     "data": {
      "text/html": [
       "<table class=\"data-frame\"><thead><tr><th></th><th>x1</th><th>x2</th><th>x3</th></tr><tr><th></th><th>Float64</th><th>Float64</th><th>Float64</th></tr></thead><tbody><p>30 rows × 3 columns</p><tr><th>1</th><td>1.4204e-315</td><td>1.00999e-314</td><td>1.27186e-315</td></tr><tr><th>2</th><td>2.0e-323</td><td>6.0e-323</td><td>1.14e-322</td></tr><tr><th>3</th><td>1.0e-323</td><td>4.0e-323</td><td>8.0e-323</td></tr><tr><th>4</th><td>2.28435e-315</td><td>1.00999e-314</td><td>2.21948e-315</td></tr><tr><th>5</th><td>1.14e-322</td><td>6.4e-323</td><td>2.27e-322</td></tr><tr><th>6</th><td>1.5e-323</td><td>4.4e-323</td><td>9.0e-323</td></tr><tr><th>7</th><td>1.27177e-315</td><td>5.0e-324</td><td>1.27177e-315</td></tr><tr><th>8</th><td>2.5e-323</td><td>7.0e-323</td><td>1.2e-322</td></tr><tr><th>9</th><td>1.5e-323</td><td>5.0e-323</td><td>9.0e-323</td></tr><tr><th>10</th><td>1.27177e-315</td><td>2.122e-314</td><td>1.27186e-315</td></tr><tr><th>11</th><td>6.4e-323</td><td>7.4e-323</td><td>1.3e-322</td></tr><tr><th>12</th><td>2.0e-323</td><td>5.4e-323</td><td>9.4e-323</td></tr><tr><th>13</th><td>1.27177e-315</td><td>2.21947e-315</td><td>2.21948e-315</td></tr><tr><th>14</th><td>3.0e-323</td><td>8.4e-323</td><td>1.24e-322</td></tr><tr><th>15</th><td>2.0e-323</td><td>6.0e-323</td><td>9.4e-323</td></tr><tr><th>16</th><td>1.27177e-315</td><td>1.27177e-315</td><td>1.27186e-315</td></tr><tr><th>17</th><td>4.0e-323</td><td>8.0e-323</td><td>1.33e-322</td></tr><tr><th>18</th><td>2.5e-323</td><td>6.0e-323</td><td>1.0e-322</td></tr><tr><th>19</th><td>2.17914e-315</td><td>1.27186e-315</td><td>1.27177e-315</td></tr><tr><th>20</th><td>3.5e-323</td><td>9.0e-323</td><td>2.27e-322</td></tr><tr><th>21</th><td>2.5e-323</td><td>6.4e-323</td><td>1.04e-322</td></tr><tr><th>22</th><td>5.0e-324</td><td>1.27186e-315</td><td>1.27938e-315</td></tr><tr><th>23</th><td>4.4e-323</td><td>1.0e-322</td><td>1.4e-322</td></tr><tr><th>24</th><td>3.0e-323</td><td>7.0e-323</td><td>1.04e-322</td></tr><tr><th>25</th><td>1.00999e-314</td><td>1.27261e-315</td><td>1.27261e-315</td></tr><tr><th>26</th><td>5.4e-323</td><td>9.4e-323</td><td>1.8e-322</td></tr><tr><th>27</th><td>3.5e-323</td><td>7.0e-323</td><td>1.1e-322</td></tr><tr><th>28</th><td>1.00999e-314</td><td>1.27177e-315</td><td>2.21488e-315</td></tr><tr><th>29</th><td>5.0e-323</td><td>1.04e-322</td><td>0.0</td></tr><tr><th>30</th><td>3.5e-323</td><td>7.4e-323</td><td>0.0</td></tr></tbody></table>"
      ],
      "text/latex": [
       "\\begin{tabular}{r|ccc}\n",
       "\t& x1 & x2 & x3\\\\\n",
       "\t\\hline\n",
       "\t& Float64 & Float64 & Float64\\\\\n",
       "\t\\hline\n",
       "\t1 & 1.4204e-315 & 1.00999e-314 & 1.27186e-315 \\\\\n",
       "\t2 & 2.0e-323 & 6.0e-323 & 1.14e-322 \\\\\n",
       "\t3 & 1.0e-323 & 4.0e-323 & 8.0e-323 \\\\\n",
       "\t4 & 2.28435e-315 & 1.00999e-314 & 2.21948e-315 \\\\\n",
       "\t5 & 1.14e-322 & 6.4e-323 & 2.27e-322 \\\\\n",
       "\t6 & 1.5e-323 & 4.4e-323 & 9.0e-323 \\\\\n",
       "\t7 & 1.27177e-315 & 5.0e-324 & 1.27177e-315 \\\\\n",
       "\t8 & 2.5e-323 & 7.0e-323 & 1.2e-322 \\\\\n",
       "\t9 & 1.5e-323 & 5.0e-323 & 9.0e-323 \\\\\n",
       "\t10 & 1.27177e-315 & 2.122e-314 & 1.27186e-315 \\\\\n",
       "\t11 & 6.4e-323 & 7.4e-323 & 1.3e-322 \\\\\n",
       "\t12 & 2.0e-323 & 5.4e-323 & 9.4e-323 \\\\\n",
       "\t13 & 1.27177e-315 & 2.21947e-315 & 2.21948e-315 \\\\\n",
       "\t14 & 3.0e-323 & 8.4e-323 & 1.24e-322 \\\\\n",
       "\t15 & 2.0e-323 & 6.0e-323 & 9.4e-323 \\\\\n",
       "\t16 & 1.27177e-315 & 1.27177e-315 & 1.27186e-315 \\\\\n",
       "\t17 & 4.0e-323 & 8.0e-323 & 1.33e-322 \\\\\n",
       "\t18 & 2.5e-323 & 6.0e-323 & 1.0e-322 \\\\\n",
       "\t19 & 2.17914e-315 & 1.27186e-315 & 1.27177e-315 \\\\\n",
       "\t20 & 3.5e-323 & 9.0e-323 & 2.27e-322 \\\\\n",
       "\t21 & 2.5e-323 & 6.4e-323 & 1.04e-322 \\\\\n",
       "\t22 & 5.0e-324 & 1.27186e-315 & 1.27938e-315 \\\\\n",
       "\t23 & 4.4e-323 & 1.0e-322 & 1.4e-322 \\\\\n",
       "\t24 & 3.0e-323 & 7.0e-323 & 1.04e-322 \\\\\n",
       "\t25 & 1.00999e-314 & 1.27261e-315 & 1.27261e-315 \\\\\n",
       "\t26 & 5.4e-323 & 9.4e-323 & 1.8e-322 \\\\\n",
       "\t27 & 3.5e-323 & 7.0e-323 & 1.1e-322 \\\\\n",
       "\t28 & 1.00999e-314 & 1.27177e-315 & 2.21488e-315 \\\\\n",
       "\t29 & 5.0e-323 & 1.04e-322 & 0.0 \\\\\n",
       "\t30 & 3.5e-323 & 7.4e-323 & 0.0 \\\\\n",
       "\\end{tabular}\n"
      ],
      "text/plain": [
       "\u001b[1m30×3 DataFrame\u001b[0m\n",
       "\u001b[1m Row \u001b[0m│\u001b[1m x1           \u001b[0m\u001b[1m x2           \u001b[0m\u001b[1m x3           \u001b[0m\n",
       "\u001b[1m     \u001b[0m│\u001b[90m Float64      \u001b[0m\u001b[90m Float64      \u001b[0m\u001b[90m Float64      \u001b[0m\n",
       "─────┼──────────────────────────────────────────\n",
       "   1 │ 1.4204e-315   1.00999e-314  1.27186e-315\n",
       "   2 │ 2.0e-323      6.0e-323      1.14e-322\n",
       "   3 │ 1.0e-323      4.0e-323      8.0e-323\n",
       "   4 │ 2.28435e-315  1.00999e-314  2.21948e-315\n",
       "   5 │ 1.14e-322     6.4e-323      2.27e-322\n",
       "   6 │ 1.5e-323      4.4e-323      9.0e-323\n",
       "   7 │ 1.27177e-315  5.0e-324      1.27177e-315\n",
       "   8 │ 2.5e-323      7.0e-323      1.2e-322\n",
       "   9 │ 1.5e-323      5.0e-323      9.0e-323\n",
       "  10 │ 1.27177e-315  2.122e-314    1.27186e-315\n",
       "  11 │ 6.4e-323      7.4e-323      1.3e-322\n",
       "  ⋮  │      ⋮             ⋮             ⋮\n",
       "  21 │ 2.5e-323      6.4e-323      1.04e-322\n",
       "  22 │ 5.0e-324      1.27186e-315  1.27938e-315\n",
       "  23 │ 4.4e-323      1.0e-322      1.4e-322\n",
       "  24 │ 3.0e-323      7.0e-323      1.04e-322\n",
       "  25 │ 1.00999e-314  1.27261e-315  1.27261e-315\n",
       "  26 │ 5.4e-323      9.4e-323      1.8e-322\n",
       "  27 │ 3.5e-323      7.0e-323      1.1e-322\n",
       "  28 │ 1.00999e-314  1.27177e-315  2.21488e-315\n",
       "  29 │ 5.0e-323      1.04e-322     0.0\n",
       "  30 │ 3.5e-323      7.4e-323      0.0\n",
       "\u001b[36m                                  9 rows omitted\u001b[0m"
      ]
     },
     "execution_count": 34,
     "metadata": {},
     "output_type": "execute_result"
    }
   ],
   "source": [
    "# Question 6: Import array_1 into a DataFrame named df\n",
    "df = DataFrame(array_1,:auto)\n"
   ]
  },
  {
   "cell_type": "code",
   "execution_count": 38,
   "metadata": {},
   "outputs": [
    {
     "data": {
      "text/html": [
       "<table class=\"data-frame\"><thead><tr><th></th><th>Var1</th><th>Var2</th><th>Var3</th></tr><tr><th></th><th>Float64</th><th>Float64</th><th>Float64</th></tr></thead><tbody><p>30 rows × 3 columns</p><tr><th>1</th><td>1.4204e-315</td><td>1.00999e-314</td><td>1.27186e-315</td></tr><tr><th>2</th><td>2.0e-323</td><td>6.0e-323</td><td>1.14e-322</td></tr><tr><th>3</th><td>1.0e-323</td><td>4.0e-323</td><td>8.0e-323</td></tr><tr><th>4</th><td>2.28435e-315</td><td>1.00999e-314</td><td>2.21948e-315</td></tr><tr><th>5</th><td>1.14e-322</td><td>6.4e-323</td><td>2.27e-322</td></tr><tr><th>6</th><td>1.5e-323</td><td>4.4e-323</td><td>9.0e-323</td></tr><tr><th>7</th><td>1.27177e-315</td><td>5.0e-324</td><td>1.27177e-315</td></tr><tr><th>8</th><td>2.5e-323</td><td>7.0e-323</td><td>1.2e-322</td></tr><tr><th>9</th><td>1.5e-323</td><td>5.0e-323</td><td>9.0e-323</td></tr><tr><th>10</th><td>1.27177e-315</td><td>2.122e-314</td><td>1.27186e-315</td></tr><tr><th>11</th><td>6.4e-323</td><td>7.4e-323</td><td>1.3e-322</td></tr><tr><th>12</th><td>2.0e-323</td><td>5.4e-323</td><td>9.4e-323</td></tr><tr><th>13</th><td>1.27177e-315</td><td>2.21947e-315</td><td>2.21948e-315</td></tr><tr><th>14</th><td>3.0e-323</td><td>8.4e-323</td><td>1.24e-322</td></tr><tr><th>15</th><td>2.0e-323</td><td>6.0e-323</td><td>9.4e-323</td></tr><tr><th>16</th><td>1.27177e-315</td><td>1.27177e-315</td><td>1.27186e-315</td></tr><tr><th>17</th><td>4.0e-323</td><td>8.0e-323</td><td>1.33e-322</td></tr><tr><th>18</th><td>2.5e-323</td><td>6.0e-323</td><td>1.0e-322</td></tr><tr><th>19</th><td>2.17914e-315</td><td>1.27186e-315</td><td>1.27177e-315</td></tr><tr><th>20</th><td>3.5e-323</td><td>9.0e-323</td><td>2.27e-322</td></tr><tr><th>21</th><td>2.5e-323</td><td>6.4e-323</td><td>1.04e-322</td></tr><tr><th>22</th><td>5.0e-324</td><td>1.27186e-315</td><td>1.27938e-315</td></tr><tr><th>23</th><td>4.4e-323</td><td>1.0e-322</td><td>1.4e-322</td></tr><tr><th>24</th><td>3.0e-323</td><td>7.0e-323</td><td>1.04e-322</td></tr><tr><th>25</th><td>1.00999e-314</td><td>1.27261e-315</td><td>1.27261e-315</td></tr><tr><th>26</th><td>5.4e-323</td><td>9.4e-323</td><td>1.8e-322</td></tr><tr><th>27</th><td>3.5e-323</td><td>7.0e-323</td><td>1.1e-322</td></tr><tr><th>28</th><td>1.00999e-314</td><td>1.27177e-315</td><td>2.21488e-315</td></tr><tr><th>29</th><td>5.0e-323</td><td>1.04e-322</td><td>0.0</td></tr><tr><th>30</th><td>3.5e-323</td><td>7.4e-323</td><td>0.0</td></tr></tbody></table>"
      ],
      "text/latex": [
       "\\begin{tabular}{r|ccc}\n",
       "\t& Var1 & Var2 & Var3\\\\\n",
       "\t\\hline\n",
       "\t& Float64 & Float64 & Float64\\\\\n",
       "\t\\hline\n",
       "\t1 & 1.4204e-315 & 1.00999e-314 & 1.27186e-315 \\\\\n",
       "\t2 & 2.0e-323 & 6.0e-323 & 1.14e-322 \\\\\n",
       "\t3 & 1.0e-323 & 4.0e-323 & 8.0e-323 \\\\\n",
       "\t4 & 2.28435e-315 & 1.00999e-314 & 2.21948e-315 \\\\\n",
       "\t5 & 1.14e-322 & 6.4e-323 & 2.27e-322 \\\\\n",
       "\t6 & 1.5e-323 & 4.4e-323 & 9.0e-323 \\\\\n",
       "\t7 & 1.27177e-315 & 5.0e-324 & 1.27177e-315 \\\\\n",
       "\t8 & 2.5e-323 & 7.0e-323 & 1.2e-322 \\\\\n",
       "\t9 & 1.5e-323 & 5.0e-323 & 9.0e-323 \\\\\n",
       "\t10 & 1.27177e-315 & 2.122e-314 & 1.27186e-315 \\\\\n",
       "\t11 & 6.4e-323 & 7.4e-323 & 1.3e-322 \\\\\n",
       "\t12 & 2.0e-323 & 5.4e-323 & 9.4e-323 \\\\\n",
       "\t13 & 1.27177e-315 & 2.21947e-315 & 2.21948e-315 \\\\\n",
       "\t14 & 3.0e-323 & 8.4e-323 & 1.24e-322 \\\\\n",
       "\t15 & 2.0e-323 & 6.0e-323 & 9.4e-323 \\\\\n",
       "\t16 & 1.27177e-315 & 1.27177e-315 & 1.27186e-315 \\\\\n",
       "\t17 & 4.0e-323 & 8.0e-323 & 1.33e-322 \\\\\n",
       "\t18 & 2.5e-323 & 6.0e-323 & 1.0e-322 \\\\\n",
       "\t19 & 2.17914e-315 & 1.27186e-315 & 1.27177e-315 \\\\\n",
       "\t20 & 3.5e-323 & 9.0e-323 & 2.27e-322 \\\\\n",
       "\t21 & 2.5e-323 & 6.4e-323 & 1.04e-322 \\\\\n",
       "\t22 & 5.0e-324 & 1.27186e-315 & 1.27938e-315 \\\\\n",
       "\t23 & 4.4e-323 & 1.0e-322 & 1.4e-322 \\\\\n",
       "\t24 & 3.0e-323 & 7.0e-323 & 1.04e-322 \\\\\n",
       "\t25 & 1.00999e-314 & 1.27261e-315 & 1.27261e-315 \\\\\n",
       "\t26 & 5.4e-323 & 9.4e-323 & 1.8e-322 \\\\\n",
       "\t27 & 3.5e-323 & 7.0e-323 & 1.1e-322 \\\\\n",
       "\t28 & 1.00999e-314 & 1.27177e-315 & 2.21488e-315 \\\\\n",
       "\t29 & 5.0e-323 & 1.04e-322 & 0.0 \\\\\n",
       "\t30 & 3.5e-323 & 7.4e-323 & 0.0 \\\\\n",
       "\\end{tabular}\n"
      ],
      "text/plain": [
       "\u001b[1m30×3 DataFrame\u001b[0m\n",
       "\u001b[1m Row \u001b[0m│\u001b[1m Var1         \u001b[0m\u001b[1m Var2         \u001b[0m\u001b[1m Var3         \u001b[0m\n",
       "\u001b[1m     \u001b[0m│\u001b[90m Float64      \u001b[0m\u001b[90m Float64      \u001b[0m\u001b[90m Float64      \u001b[0m\n",
       "─────┼──────────────────────────────────────────\n",
       "   1 │ 1.4204e-315   1.00999e-314  1.27186e-315\n",
       "   2 │ 2.0e-323      6.0e-323      1.14e-322\n",
       "   3 │ 1.0e-323      4.0e-323      8.0e-323\n",
       "   4 │ 2.28435e-315  1.00999e-314  2.21948e-315\n",
       "   5 │ 1.14e-322     6.4e-323      2.27e-322\n",
       "   6 │ 1.5e-323      4.4e-323      9.0e-323\n",
       "   7 │ 1.27177e-315  5.0e-324      1.27177e-315\n",
       "   8 │ 2.5e-323      7.0e-323      1.2e-322\n",
       "   9 │ 1.5e-323      5.0e-323      9.0e-323\n",
       "  10 │ 1.27177e-315  2.122e-314    1.27186e-315\n",
       "  11 │ 6.4e-323      7.4e-323      1.3e-322\n",
       "  ⋮  │      ⋮             ⋮             ⋮\n",
       "  21 │ 2.5e-323      6.4e-323      1.04e-322\n",
       "  22 │ 5.0e-324      1.27186e-315  1.27938e-315\n",
       "  23 │ 4.4e-323      1.0e-322      1.4e-322\n",
       "  24 │ 3.0e-323      7.0e-323      1.04e-322\n",
       "  25 │ 1.00999e-314  1.27261e-315  1.27261e-315\n",
       "  26 │ 5.4e-323      9.4e-323      1.8e-322\n",
       "  27 │ 3.5e-323      7.0e-323      1.1e-322\n",
       "  28 │ 1.00999e-314  1.27177e-315  2.21488e-315\n",
       "  29 │ 5.0e-323      1.04e-322     0.0\n",
       "  30 │ 3.5e-323      7.4e-323      0.0\n",
       "\u001b[36m                                  9 rows omitted\u001b[0m"
      ]
     },
     "execution_count": 38,
     "metadata": {},
     "output_type": "execute_result"
    }
   ],
   "source": [
    "# Question 7: Change the names of the columns to Var1, Var2, and Var3\n",
    "rename!(df, Dict(:x1 => :Var1, :x2 => :Var2, :x3 => :Var3))"
   ]
  },
  {
   "cell_type": "code",
   "execution_count": 36,
   "metadata": {},
   "outputs": [
    {
     "data": {
      "text/html": [
       "<table class=\"data-frame\"><thead><tr><th></th><th>x1</th><th>x2</th><th>x3</th></tr><tr><th></th><th>Float64</th><th>Float64</th><th>Float64</th></tr></thead><tbody><p>20 rows × 3 columns</p><tr><th>1</th><td>6.4e-323</td><td>7.4e-323</td><td>1.3e-322</td></tr><tr><th>2</th><td>2.0e-323</td><td>5.4e-323</td><td>9.4e-323</td></tr><tr><th>3</th><td>1.27177e-315</td><td>2.21947e-315</td><td>2.21948e-315</td></tr><tr><th>4</th><td>3.0e-323</td><td>8.4e-323</td><td>1.24e-322</td></tr><tr><th>5</th><td>2.0e-323</td><td>6.0e-323</td><td>9.4e-323</td></tr><tr><th>6</th><td>1.27177e-315</td><td>1.27177e-315</td><td>1.27186e-315</td></tr><tr><th>7</th><td>4.0e-323</td><td>8.0e-323</td><td>1.33e-322</td></tr><tr><th>8</th><td>2.5e-323</td><td>6.0e-323</td><td>1.0e-322</td></tr><tr><th>9</th><td>2.17914e-315</td><td>1.27186e-315</td><td>1.27177e-315</td></tr><tr><th>10</th><td>3.5e-323</td><td>9.0e-323</td><td>2.27e-322</td></tr><tr><th>11</th><td>2.5e-323</td><td>6.4e-323</td><td>1.04e-322</td></tr><tr><th>12</th><td>5.0e-324</td><td>1.27186e-315</td><td>1.27938e-315</td></tr><tr><th>13</th><td>4.4e-323</td><td>1.0e-322</td><td>1.4e-322</td></tr><tr><th>14</th><td>3.0e-323</td><td>7.0e-323</td><td>1.04e-322</td></tr><tr><th>15</th><td>1.00999e-314</td><td>1.27261e-315</td><td>1.27261e-315</td></tr><tr><th>16</th><td>5.4e-323</td><td>9.4e-323</td><td>1.8e-322</td></tr><tr><th>17</th><td>3.5e-323</td><td>7.0e-323</td><td>1.1e-322</td></tr><tr><th>18</th><td>1.00999e-314</td><td>1.27177e-315</td><td>2.21488e-315</td></tr><tr><th>19</th><td>5.0e-323</td><td>1.04e-322</td><td>0.0</td></tr><tr><th>20</th><td>3.5e-323</td><td>7.4e-323</td><td>0.0</td></tr></tbody></table>"
      ],
      "text/latex": [
       "\\begin{tabular}{r|ccc}\n",
       "\t& x1 & x2 & x3\\\\\n",
       "\t\\hline\n",
       "\t& Float64 & Float64 & Float64\\\\\n",
       "\t\\hline\n",
       "\t1 & 6.4e-323 & 7.4e-323 & 1.3e-322 \\\\\n",
       "\t2 & 2.0e-323 & 5.4e-323 & 9.4e-323 \\\\\n",
       "\t3 & 1.27177e-315 & 2.21947e-315 & 2.21948e-315 \\\\\n",
       "\t4 & 3.0e-323 & 8.4e-323 & 1.24e-322 \\\\\n",
       "\t5 & 2.0e-323 & 6.0e-323 & 9.4e-323 \\\\\n",
       "\t6 & 1.27177e-315 & 1.27177e-315 & 1.27186e-315 \\\\\n",
       "\t7 & 4.0e-323 & 8.0e-323 & 1.33e-322 \\\\\n",
       "\t8 & 2.5e-323 & 6.0e-323 & 1.0e-322 \\\\\n",
       "\t9 & 2.17914e-315 & 1.27186e-315 & 1.27177e-315 \\\\\n",
       "\t10 & 3.5e-323 & 9.0e-323 & 2.27e-322 \\\\\n",
       "\t11 & 2.5e-323 & 6.4e-323 & 1.04e-322 \\\\\n",
       "\t12 & 5.0e-324 & 1.27186e-315 & 1.27938e-315 \\\\\n",
       "\t13 & 4.4e-323 & 1.0e-322 & 1.4e-322 \\\\\n",
       "\t14 & 3.0e-323 & 7.0e-323 & 1.04e-322 \\\\\n",
       "\t15 & 1.00999e-314 & 1.27261e-315 & 1.27261e-315 \\\\\n",
       "\t16 & 5.4e-323 & 9.4e-323 & 1.8e-322 \\\\\n",
       "\t17 & 3.5e-323 & 7.0e-323 & 1.1e-322 \\\\\n",
       "\t18 & 1.00999e-314 & 1.27177e-315 & 2.21488e-315 \\\\\n",
       "\t19 & 5.0e-323 & 1.04e-322 & 0.0 \\\\\n",
       "\t20 & 3.5e-323 & 7.4e-323 & 0.0 \\\\\n",
       "\\end{tabular}\n"
      ],
      "text/plain": [
       "\u001b[1m20×3 DataFrame\u001b[0m\n",
       "\u001b[1m Row \u001b[0m│\u001b[1m x1           \u001b[0m\u001b[1m x2           \u001b[0m\u001b[1m x3           \u001b[0m\n",
       "\u001b[1m     \u001b[0m│\u001b[90m Float64      \u001b[0m\u001b[90m Float64      \u001b[0m\u001b[90m Float64      \u001b[0m\n",
       "─────┼──────────────────────────────────────────\n",
       "   1 │ 6.4e-323      7.4e-323      1.3e-322\n",
       "   2 │ 2.0e-323      5.4e-323      9.4e-323\n",
       "   3 │ 1.27177e-315  2.21947e-315  2.21948e-315\n",
       "   4 │ 3.0e-323      8.4e-323      1.24e-322\n",
       "   5 │ 2.0e-323      6.0e-323      9.4e-323\n",
       "   6 │ 1.27177e-315  1.27177e-315  1.27186e-315\n",
       "   7 │ 4.0e-323      8.0e-323      1.33e-322\n",
       "   8 │ 2.5e-323      6.0e-323      1.0e-322\n",
       "   9 │ 2.17914e-315  1.27186e-315  1.27177e-315\n",
       "  10 │ 3.5e-323      9.0e-323      2.27e-322\n",
       "  11 │ 2.5e-323      6.4e-323      1.04e-322\n",
       "  12 │ 5.0e-324      1.27186e-315  1.27938e-315\n",
       "  13 │ 4.4e-323      1.0e-322      1.4e-322\n",
       "  14 │ 3.0e-323      7.0e-323      1.04e-322\n",
       "  15 │ 1.00999e-314  1.27261e-315  1.27261e-315\n",
       "  16 │ 5.4e-323      9.4e-323      1.8e-322\n",
       "  17 │ 3.5e-323      7.0e-323      1.1e-322\n",
       "  18 │ 1.00999e-314  1.27177e-315  2.21488e-315\n",
       "  19 │ 5.0e-323      1.04e-322     0.0\n",
       "  20 │ 3.5e-323      7.4e-323      0.0"
      ]
     },
     "execution_count": 36,
     "metadata": {},
     "output_type": "execute_result"
    }
   ],
   "source": [
    "# Question 8: Create and new DataFrame named df2 from the last 20 rows of df\n",
    "df2 = df[11:30,:]"
   ]
  },
  {
   "cell_type": "code",
   "execution_count": 37,
   "metadata": {},
   "outputs": [
    {
     "data": {
      "text/html": [
       "<table class=\"data-frame\"><thead><tr><th></th><th>variable</th><th>mean</th><th>min</th><th>median</th><th>max</th><th>nmissing</th><th>eltype</th></tr><tr><th></th><th>Symbol</th><th>Float64</th><th>Float64</th><th>Float64</th><th>Float64</th><th>Int64</th><th>DataType</th></tr></thead><tbody><p>3 rows × 7 columns</p><tr><th>1</th><td>x1</td><td>1.24613e-315</td><td>5.0e-324</td><td>3.5e-323</td><td>1.00999e-314</td><td>0</td><td>Float64</td></tr><tr><th>2</th><td>x2</td><td>4.28967e-316</td><td>5.4e-323</td><td>8.4e-323</td><td>2.21947e-315</td><td>0</td><td>Float64</td></tr><tr><th>3</th><td>x3</td><td>4.76499e-316</td><td>0.0</td><td>1.3e-322</td><td>2.21948e-315</td><td>0</td><td>Float64</td></tr></tbody></table>"
      ],
      "text/latex": [
       "\\begin{tabular}{r|ccccccc}\n",
       "\t& variable & mean & min & median & max & nmissing & eltype\\\\\n",
       "\t\\hline\n",
       "\t& Symbol & Float64 & Float64 & Float64 & Float64 & Int64 & DataType\\\\\n",
       "\t\\hline\n",
       "\t1 & x1 & 1.24613e-315 & 5.0e-324 & 3.5e-323 & 1.00999e-314 & 0 & Float64 \\\\\n",
       "\t2 & x2 & 4.28967e-316 & 5.4e-323 & 8.4e-323 & 2.21947e-315 & 0 & Float64 \\\\\n",
       "\t3 & x3 & 4.76499e-316 & 0.0 & 1.3e-322 & 2.21948e-315 & 0 & Float64 \\\\\n",
       "\\end{tabular}\n"
      ],
      "text/plain": [
       "\u001b[1m3×7 DataFrame\u001b[0m\n",
       "\u001b[1m Row \u001b[0m│\u001b[1m variable \u001b[0m\u001b[1m mean         \u001b[0m\u001b[1m min      \u001b[0m\u001b[1m median   \u001b[0m\u001b[1m max          \u001b[0m\u001b[1m nmissing \u001b[0m\u001b[1m elt\u001b[0m ⋯\n",
       "\u001b[1m     \u001b[0m│\u001b[90m Symbol   \u001b[0m\u001b[90m Float64      \u001b[0m\u001b[90m Float64  \u001b[0m\u001b[90m Float64  \u001b[0m\u001b[90m Float64      \u001b[0m\u001b[90m Int64    \u001b[0m\u001b[90m Dat\u001b[0m ⋯\n",
       "─────┼──────────────────────────────────────────────────────────────────────────\n",
       "   1 │ x1        1.24613e-315  5.0e-324  3.5e-323  1.00999e-314         0  Flo ⋯\n",
       "   2 │ x2        4.28967e-316  5.4e-323  8.4e-323  2.21947e-315         0  Flo\n",
       "   3 │ x3        4.76499e-316  0.0       1.3e-322  2.21948e-315         0  Flo\n",
       "\u001b[36m                                                                1 column omitted\u001b[0m"
      ]
     },
     "execution_count": 37,
     "metadata": {},
     "output_type": "execute_result"
    }
   ],
   "source": [
    "# Question 9: Calculate simple descriptive statistics of all the columns in df2 using the describe() function\n",
    "describe(df2)"
   ]
  },
  {
   "cell_type": "code",
   "execution_count": null,
   "metadata": {},
   "outputs": [],
   "source": [
    "# Question 10: Add a column to df2 named Cat1 to df2 consisting of randomly selecting either the strings GroupA or GroupB\n",
    "df2[:Cat] = rand([\"GroupA\",\"GroupB\"],20)"
   ]
  },
  {
   "cell_type": "code",
   "execution_count": 50,
   "metadata": {},
   "outputs": [
    {
     "data": {
      "text/html": [
       "<table class=\"data-frame\"><thead><tr><th></th><th>A</th><th>B</th><th>C</th></tr><tr><th></th><th>Int64</th><th>Int64</th><th>Int64</th></tr></thead><tbody><p>20 rows × 3 columns</p><tr><th>1</th><td>1</td><td>21</td><td>41</td></tr><tr><th>2</th><td>2</td><td>22</td><td>42</td></tr><tr><th>3</th><td>3</td><td>23</td><td>43</td></tr><tr><th>4</th><td>4</td><td>24</td><td>44</td></tr><tr><th>5</th><td>5</td><td>25</td><td>45</td></tr><tr><th>6</th><td>6</td><td>26</td><td>46</td></tr><tr><th>7</th><td>7</td><td>27</td><td>47</td></tr><tr><th>8</th><td>8</td><td>28</td><td>48</td></tr><tr><th>9</th><td>9</td><td>29</td><td>49</td></tr><tr><th>10</th><td>10</td><td>30</td><td>50</td></tr><tr><th>11</th><td>11</td><td>31</td><td>51</td></tr><tr><th>12</th><td>12</td><td>32</td><td>52</td></tr><tr><th>13</th><td>13</td><td>33</td><td>53</td></tr><tr><th>14</th><td>14</td><td>34</td><td>54</td></tr><tr><th>15</th><td>15</td><td>35</td><td>55</td></tr><tr><th>16</th><td>16</td><td>36</td><td>56</td></tr><tr><th>17</th><td>17</td><td>37</td><td>57</td></tr><tr><th>18</th><td>18</td><td>38</td><td>58</td></tr><tr><th>19</th><td>19</td><td>39</td><td>59</td></tr><tr><th>20</th><td>20</td><td>40</td><td>60</td></tr></tbody></table>"
      ],
      "text/latex": [
       "\\begin{tabular}{r|ccc}\n",
       "\t& A & B & C\\\\\n",
       "\t\\hline\n",
       "\t& Int64 & Int64 & Int64\\\\\n",
       "\t\\hline\n",
       "\t1 & 1 & 21 & 41 \\\\\n",
       "\t2 & 2 & 22 & 42 \\\\\n",
       "\t3 & 3 & 23 & 43 \\\\\n",
       "\t4 & 4 & 24 & 44 \\\\\n",
       "\t5 & 5 & 25 & 45 \\\\\n",
       "\t6 & 6 & 26 & 46 \\\\\n",
       "\t7 & 7 & 27 & 47 \\\\\n",
       "\t8 & 8 & 28 & 48 \\\\\n",
       "\t9 & 9 & 29 & 49 \\\\\n",
       "\t10 & 10 & 30 & 50 \\\\\n",
       "\t11 & 11 & 31 & 51 \\\\\n",
       "\t12 & 12 & 32 & 52 \\\\\n",
       "\t13 & 13 & 33 & 53 \\\\\n",
       "\t14 & 14 & 34 & 54 \\\\\n",
       "\t15 & 15 & 35 & 55 \\\\\n",
       "\t16 & 16 & 36 & 56 \\\\\n",
       "\t17 & 17 & 37 & 57 \\\\\n",
       "\t18 & 18 & 38 & 58 \\\\\n",
       "\t19 & 19 & 39 & 59 \\\\\n",
       "\t20 & 20 & 40 & 60 \\\\\n",
       "\\end{tabular}\n"
      ],
      "text/plain": [
       "\u001b[1m20×3 DataFrame\u001b[0m\n",
       "\u001b[1m Row \u001b[0m│\u001b[1m A     \u001b[0m\u001b[1m B     \u001b[0m\u001b[1m C     \u001b[0m\n",
       "\u001b[1m     \u001b[0m│\u001b[90m Int64 \u001b[0m\u001b[90m Int64 \u001b[0m\u001b[90m Int64 \u001b[0m\n",
       "─────┼─────────────────────\n",
       "   1 │     1     21     41\n",
       "   2 │     2     22     42\n",
       "   3 │     3     23     43\n",
       "   4 │     4     24     44\n",
       "   5 │     5     25     45\n",
       "   6 │     6     26     46\n",
       "   7 │     7     27     47\n",
       "   8 │     8     28     48\n",
       "   9 │     9     29     49\n",
       "  10 │    10     30     50\n",
       "  11 │    11     31     51\n",
       "  12 │    12     32     52\n",
       "  13 │    13     33     53\n",
       "  14 │    14     34     54\n",
       "  15 │    15     35     55\n",
       "  16 │    16     36     56\n",
       "  17 │    17     37     57\n",
       "  18 │    18     38     58\n",
       "  19 │    19     39     59\n",
       "  20 │    20     40     60"
      ]
     },
     "execution_count": 50,
     "metadata": {},
     "output_type": "execute_result"
    }
   ],
   "source": [
    "# Question 11: Create a new DataFrame named df3\n",
    "df3 = DataFrame(A = 1:20, B = 21:40, C = 41:60)"
   ]
  },
  {
   "cell_type": "code",
   "execution_count": 54,
   "metadata": {},
   "outputs": [
    {
     "data": {
      "text/html": [
       "<table class=\"data-frame\"><thead><tr><th></th><th>A</th><th>B</th><th>C</th></tr><tr><th></th><th>Int64?</th><th>Int64?</th><th>Int64?</th></tr></thead><tbody><p>20 rows × 3 columns</p><tr><th>1</th><td>1</td><td>21</td><td>41</td></tr><tr><th>2</th><td><em>missing</em></td><td>22</td><td>42</td></tr><tr><th>3</th><td>3</td><td>23</td><td>43</td></tr><tr><th>4</th><td>4</td><td><em>missing</em></td><td>44</td></tr><tr><th>5</th><td>5</td><td>25</td><td>45</td></tr><tr><th>6</th><td>6</td><td>26</td><td><em>missing</em></td></tr><tr><th>7</th><td>7</td><td>27</td><td>47</td></tr><tr><th>8</th><td>8</td><td>28</td><td>48</td></tr><tr><th>9</th><td>9</td><td>29</td><td>49</td></tr><tr><th>10</th><td>10</td><td>30</td><td>50</td></tr><tr><th>11</th><td>11</td><td>31</td><td>51</td></tr><tr><th>12</th><td>12</td><td>32</td><td>52</td></tr><tr><th>13</th><td>13</td><td>33</td><td>53</td></tr><tr><th>14</th><td>14</td><td>34</td><td>54</td></tr><tr><th>15</th><td>15</td><td>35</td><td>55</td></tr><tr><th>16</th><td>16</td><td>36</td><td>56</td></tr><tr><th>17</th><td>17</td><td>37</td><td>57</td></tr><tr><th>18</th><td>18</td><td>38</td><td>58</td></tr><tr><th>19</th><td>19</td><td>39</td><td>59</td></tr><tr><th>20</th><td>20</td><td>40</td><td>60</td></tr></tbody></table>"
      ],
      "text/latex": [
       "\\begin{tabular}{r|ccc}\n",
       "\t& A & B & C\\\\\n",
       "\t\\hline\n",
       "\t& Int64? & Int64? & Int64?\\\\\n",
       "\t\\hline\n",
       "\t1 & 1 & 21 & 41 \\\\\n",
       "\t2 & \\emph{missing} & 22 & 42 \\\\\n",
       "\t3 & 3 & 23 & 43 \\\\\n",
       "\t4 & 4 & \\emph{missing} & 44 \\\\\n",
       "\t5 & 5 & 25 & 45 \\\\\n",
       "\t6 & 6 & 26 & \\emph{missing} \\\\\n",
       "\t7 & 7 & 27 & 47 \\\\\n",
       "\t8 & 8 & 28 & 48 \\\\\n",
       "\t9 & 9 & 29 & 49 \\\\\n",
       "\t10 & 10 & 30 & 50 \\\\\n",
       "\t11 & 11 & 31 & 51 \\\\\n",
       "\t12 & 12 & 32 & 52 \\\\\n",
       "\t13 & 13 & 33 & 53 \\\\\n",
       "\t14 & 14 & 34 & 54 \\\\\n",
       "\t15 & 15 & 35 & 55 \\\\\n",
       "\t16 & 16 & 36 & 56 \\\\\n",
       "\t17 & 17 & 37 & 57 \\\\\n",
       "\t18 & 18 & 38 & 58 \\\\\n",
       "\t19 & 19 & 39 & 59 \\\\\n",
       "\t20 & 20 & 40 & 60 \\\\\n",
       "\\end{tabular}\n"
      ],
      "text/plain": [
       "\u001b[1m20×3 DataFrame\u001b[0m\n",
       "\u001b[1m Row \u001b[0m│\u001b[1m A       \u001b[0m\u001b[1m B       \u001b[0m\u001b[1m C       \u001b[0m\n",
       "\u001b[1m     \u001b[0m│\u001b[90m Int64?  \u001b[0m\u001b[90m Int64?  \u001b[0m\u001b[90m Int64?  \u001b[0m\n",
       "─────┼───────────────────────────\n",
       "   1 │       1       21       41\n",
       "   2 │\u001b[90m missing \u001b[0m      22       42\n",
       "   3 │       3       23       43\n",
       "   4 │       4 \u001b[90m missing \u001b[0m      44\n",
       "   5 │       5       25       45\n",
       "   6 │       6       26 \u001b[90m missing \u001b[0m\n",
       "   7 │       7       27       47\n",
       "   8 │       8       28       48\n",
       "   9 │       9       29       49\n",
       "  10 │      10       30       50\n",
       "  11 │      11       31       51\n",
       "  12 │      12       32       52\n",
       "  13 │      13       33       53\n",
       "  14 │      14       34       54\n",
       "  15 │      15       35       55\n",
       "  16 │      16       36       56\n",
       "  17 │      17       37       57\n",
       "  18 │      18       38       58\n",
       "  19 │      19       39       59\n",
       "  20 │      20       40       60"
      ]
     },
     "execution_count": 54,
     "metadata": {},
     "output_type": "execute_result"
    }
   ],
   "source": [
    "# Question 12: Change indicated values to empty entries\n",
    "allowmissing!(df3)\n",
    "df3[2,:A] = missing\n",
    "df3[4,:B] = missing \n",
    "df3[6,:C] = missing\n",
    "df3"
   ]
  },
  {
   "cell_type": "code",
   "execution_count": 55,
   "metadata": {},
   "outputs": [],
   "source": [
    "# Question 13: Create DataFrame df4 that contains no rows with NaN (NA) values\n",
    "df4 = df3\n",
    "for el in eachrow(df4)\n",
    "    if ismissing(el[:A])\n",
    "        el[:A]=0\n",
    "    end\n",
    "end\n",
    "\n",
    "for el in eachrow(df4)\n",
    "    if ismissing(el[:B])\n",
    "        el[:B]=0\n",
    "    end\n",
    "end\n",
    "        \n",
    "for el in eachrow(df4)\n",
    "    if ismissing(el[:C])\n",
    "        el[:C]=0\n",
    "    end\n",
    "end"
   ]
  },
  {
   "cell_type": "code",
   "execution_count": 56,
   "metadata": {},
   "outputs": [
    {
     "data": {
      "text/html": [
       "<table class=\"data-frame\"><thead><tr><th></th><th>A</th><th>B</th><th>C</th></tr><tr><th></th><th>Int64?</th><th>Int64?</th><th>Int64?</th></tr></thead><tbody><p>20 rows × 3 columns</p><tr><th>1</th><td>1</td><td>21</td><td>41</td></tr><tr><th>2</th><td>0</td><td>22</td><td>42</td></tr><tr><th>3</th><td>3</td><td>23</td><td>43</td></tr><tr><th>4</th><td>4</td><td>0</td><td>44</td></tr><tr><th>5</th><td>5</td><td>25</td><td>45</td></tr><tr><th>6</th><td>6</td><td>26</td><td>0</td></tr><tr><th>7</th><td>7</td><td>27</td><td>47</td></tr><tr><th>8</th><td>8</td><td>28</td><td>48</td></tr><tr><th>9</th><td>9</td><td>29</td><td>49</td></tr><tr><th>10</th><td>10</td><td>30</td><td>50</td></tr><tr><th>11</th><td>11</td><td>31</td><td>51</td></tr><tr><th>12</th><td>12</td><td>32</td><td>52</td></tr><tr><th>13</th><td>13</td><td>33</td><td>53</td></tr><tr><th>14</th><td>14</td><td>34</td><td>54</td></tr><tr><th>15</th><td>15</td><td>35</td><td>55</td></tr><tr><th>16</th><td>16</td><td>36</td><td>56</td></tr><tr><th>17</th><td>17</td><td>37</td><td>57</td></tr><tr><th>18</th><td>18</td><td>38</td><td>58</td></tr><tr><th>19</th><td>19</td><td>39</td><td>59</td></tr><tr><th>20</th><td>20</td><td>40</td><td>60</td></tr></tbody></table>"
      ],
      "text/latex": [
       "\\begin{tabular}{r|ccc}\n",
       "\t& A & B & C\\\\\n",
       "\t\\hline\n",
       "\t& Int64? & Int64? & Int64?\\\\\n",
       "\t\\hline\n",
       "\t1 & 1 & 21 & 41 \\\\\n",
       "\t2 & 0 & 22 & 42 \\\\\n",
       "\t3 & 3 & 23 & 43 \\\\\n",
       "\t4 & 4 & 0 & 44 \\\\\n",
       "\t5 & 5 & 25 & 45 \\\\\n",
       "\t6 & 6 & 26 & 0 \\\\\n",
       "\t7 & 7 & 27 & 47 \\\\\n",
       "\t8 & 8 & 28 & 48 \\\\\n",
       "\t9 & 9 & 29 & 49 \\\\\n",
       "\t10 & 10 & 30 & 50 \\\\\n",
       "\t11 & 11 & 31 & 51 \\\\\n",
       "\t12 & 12 & 32 & 52 \\\\\n",
       "\t13 & 13 & 33 & 53 \\\\\n",
       "\t14 & 14 & 34 & 54 \\\\\n",
       "\t15 & 15 & 35 & 55 \\\\\n",
       "\t16 & 16 & 36 & 56 \\\\\n",
       "\t17 & 17 & 37 & 57 \\\\\n",
       "\t18 & 18 & 38 & 58 \\\\\n",
       "\t19 & 19 & 39 & 59 \\\\\n",
       "\t20 & 20 & 40 & 60 \\\\\n",
       "\\end{tabular}\n"
      ],
      "text/plain": [
       "\u001b[1m20×3 DataFrame\u001b[0m\n",
       "\u001b[1m Row \u001b[0m│\u001b[1m A      \u001b[0m\u001b[1m B      \u001b[0m\u001b[1m C      \u001b[0m\n",
       "\u001b[1m     \u001b[0m│\u001b[90m Int64? \u001b[0m\u001b[90m Int64? \u001b[0m\u001b[90m Int64? \u001b[0m\n",
       "─────┼────────────────────────\n",
       "   1 │      1      21      41\n",
       "   2 │      0      22      42\n",
       "   3 │      3      23      43\n",
       "   4 │      4       0      44\n",
       "   5 │      5      25      45\n",
       "   6 │      6      26       0\n",
       "   7 │      7      27      47\n",
       "   8 │      8      28      48\n",
       "   9 │      9      29      49\n",
       "  10 │     10      30      50\n",
       "  11 │     11      31      51\n",
       "  12 │     12      32      52\n",
       "  13 │     13      33      53\n",
       "  14 │     14      34      54\n",
       "  15 │     15      35      55\n",
       "  16 │     16      36      56\n",
       "  17 │     17      37      57\n",
       "  18 │     18      38      58\n",
       "  19 │     19      39      59\n",
       "  20 │     20      40      60"
      ]
     },
     "execution_count": 56,
     "metadata": {},
     "output_type": "execute_result"
    }
   ],
   "source": [
    "df4"
   ]
  }
 ],
 "metadata": {
  "kernelspec": {
   "display_name": "Julia 1.6.1",
   "language": "julia",
   "name": "julia-1.6"
  },
  "language_info": {
   "file_extension": ".jl",
   "mimetype": "application/julia",
   "name": "julia",
   "version": "1.6.1"
  }
 },
 "nbformat": 4,
 "nbformat_minor": 1
}
