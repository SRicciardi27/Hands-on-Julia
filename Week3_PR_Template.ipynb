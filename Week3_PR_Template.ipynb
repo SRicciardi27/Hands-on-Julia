{
 "cells": [
  {
   "cell_type": "markdown",
   "metadata": {},
   "source": [
    "# Change to my Week 3 Assignment Title"
   ]
  },
  {
   "cell_type": "code",
   "execution_count": 1,
   "metadata": {},
   "outputs": [
    {
     "data": {
      "text/plain": [
       "Plots.GRBackend()"
      ]
     },
     "execution_count": 1,
     "metadata": {},
     "output_type": "execute_result"
    }
   ],
   "source": [
    "# You may need this setup\n",
    "using Plots\n",
    "gr() # Activate the GR backend for use with Plots"
   ]
  },
  {
   "cell_type": "markdown",
   "metadata": {},
   "source": [
    "Import the supplied data representing 15 pairs to x- and y-values. "
   ]
  },
  {
   "cell_type": "code",
   "execution_count": 13,
   "metadata": {},
   "outputs": [
    {
     "data": {
      "text/plain": [
       "15-element Vector{Float64}:\n",
       "  -1.641695388\n",
       "  -0.977697538\n",
       "   0.52771122\n",
       "   1.711524991\n",
       "   1.891000015\n",
       "  -0.463427794\n",
       "  -0.443566619\n",
       "  -1.275179133\n",
       "  -0.690499597\n",
       "  -5.516130799\n",
       "  -6.001703074\n",
       "  -8.36416901\n",
       "  -7.924477517\n",
       " -10.77482371\n",
       " -10.9171878"
      ]
     },
     "execution_count": 13,
     "metadata": {},
     "output_type": "execute_result"
    }
   ],
   "source": [
    "data_tofit = [1.6800483    -1.641695388; \n",
    "              0.501309281  -0.977697538; \n",
    "              1.528012113   0.52771122;\n",
    "              1.70012253    1.711524991; \n",
    "              1.992493625   1.891000015;\n",
    "              2.706075824  -0.463427794;\n",
    "              2.994931927  -0.443566619;\n",
    "              3.491852811  -1.275179133;\n",
    "              3.501191722  -0.690499597;\n",
    "              4.459924502  -5.516130799;\n",
    "              4.936965851  -6.001703074;\n",
    "              5.023289852  -8.36416901;\n",
    "              5.04233698   -7.924477517;\n",
    "              5.50739285  -10.77482371;\n",
    "              5.568665171 -10.9171878]\n",
    "\n",
    "# Create the arrays x and y, assigning x the first column of data_tofit and y the second column\n",
    "x = data_tofit[:,1]\n",
    "y = data_tofit[:,2]"
   ]
  },
  {
   "cell_type": "code",
   "execution_count": 16,
   "metadata": {},
   "outputs": [
    {
     "data": {
      "text/plain": [
       "([1.6800483, 0.501309281, 1.528012113, 1.70012253, 1.992493625, 2.706075824, 2.994931927, 3.491852811, 3.501191722, 4.459924502, 4.936965851, 5.023289852, 5.04233698, 5.50739285, 5.568665171], [-1.641695388, -0.977697538, 0.52771122, 1.711524991, 1.891000015, -0.463427794, -0.443566619, -1.275179133, -0.690499597, -5.516130799, -6.001703074, -8.36416901, -7.924477517, -10.77482371, -10.9171878])"
      ]
     },
     "execution_count": 16,
     "metadata": {},
     "output_type": "execute_result"
    }
   ],
   "source": [
    "x,y"
   ]
  },
  {
   "cell_type": "markdown",
   "metadata": {},
   "source": [
    "Then we do a scatterplot, this gives us the points the line must go through."
   ]
  },
  {
   "cell_type": "code",
   "execution_count": 18,
   "metadata": {},
   "outputs": [
    {
     "data": {
      "image/svg+xml": [
       "<?xml version=\"1.0\" encoding=\"utf-8\"?>\n",
       "<svg xmlns=\"http://www.w3.org/2000/svg\" xmlns:xlink=\"http://www.w3.org/1999/xlink\" width=\"600\" height=\"400\" viewBox=\"0 0 2400 1600\">\n",
       "<defs>\n",
       "  <clipPath id=\"clip500\">\n",
       "    <rect x=\"0\" y=\"0\" width=\"2400\" height=\"1600\"/>\n",
       "  </clipPath>\n",
       "</defs>\n",
       "<path clip-path=\"url(#clip500)\" d=\"\n",
       "M0 1600 L2400 1600 L2400 0 L0 0  Z\n",
       "  \" fill=\"#ffffff\" fill-rule=\"evenodd\" fill-opacity=\"1\"/>\n",
       "<defs>\n",
       "  <clipPath id=\"clip501\">\n",
       "    <rect x=\"480\" y=\"0\" width=\"1681\" height=\"1600\"/>\n",
       "  </clipPath>\n",
       "</defs>\n",
       "<path clip-path=\"url(#clip500)\" d=\"\n",
       "M224.098 1486.45 L2352.76 1486.45 L2352.76 123.472 L224.098 123.472  Z\n",
       "  \" fill=\"#ffffff\" fill-rule=\"evenodd\" fill-opacity=\"1\"/>\n",
       "<defs>\n",
       "  <clipPath id=\"clip502\">\n",
       "    <rect x=\"224\" y=\"123\" width=\"2130\" height=\"1364\"/>\n",
       "  </clipPath>\n",
       "</defs>\n",
       "<polyline clip-path=\"url(#clip502)\" style=\"stroke:#000000; stroke-linecap:butt; stroke-linejoin:round; stroke-width:2; stroke-opacity:0.1; fill:none\" points=\"\n",
       "  481.972,1486.45 481.972,123.472 \n",
       "  \"/>\n",
       "<polyline clip-path=\"url(#clip502)\" style=\"stroke:#000000; stroke-linecap:butt; stroke-linejoin:round; stroke-width:2; stroke-opacity:0.1; fill:none\" points=\"\n",
       "  878.267,1486.45 878.267,123.472 \n",
       "  \"/>\n",
       "<polyline clip-path=\"url(#clip502)\" style=\"stroke:#000000; stroke-linecap:butt; stroke-linejoin:round; stroke-width:2; stroke-opacity:0.1; fill:none\" points=\"\n",
       "  1274.56,1486.45 1274.56,123.472 \n",
       "  \"/>\n",
       "<polyline clip-path=\"url(#clip502)\" style=\"stroke:#000000; stroke-linecap:butt; stroke-linejoin:round; stroke-width:2; stroke-opacity:0.1; fill:none\" points=\"\n",
       "  1670.86,1486.45 1670.86,123.472 \n",
       "  \"/>\n",
       "<polyline clip-path=\"url(#clip502)\" style=\"stroke:#000000; stroke-linecap:butt; stroke-linejoin:round; stroke-width:2; stroke-opacity:0.1; fill:none\" points=\"\n",
       "  2067.15,1486.45 2067.15,123.472 \n",
       "  \"/>\n",
       "<polyline clip-path=\"url(#clip500)\" style=\"stroke:#000000; stroke-linecap:butt; stroke-linejoin:round; stroke-width:4; stroke-opacity:1; fill:none\" points=\"\n",
       "  224.098,1486.45 2352.76,1486.45 \n",
       "  \"/>\n",
       "<polyline clip-path=\"url(#clip500)\" style=\"stroke:#000000; stroke-linecap:butt; stroke-linejoin:round; stroke-width:4; stroke-opacity:1; fill:none\" points=\"\n",
       "  481.972,1486.45 481.972,1470.09 \n",
       "  \"/>\n",
       "<polyline clip-path=\"url(#clip500)\" style=\"stroke:#000000; stroke-linecap:butt; stroke-linejoin:round; stroke-width:4; stroke-opacity:1; fill:none\" points=\"\n",
       "  878.267,1486.45 878.267,1470.09 \n",
       "  \"/>\n",
       "<polyline clip-path=\"url(#clip500)\" style=\"stroke:#000000; stroke-linecap:butt; stroke-linejoin:round; stroke-width:4; stroke-opacity:1; fill:none\" points=\"\n",
       "  1274.56,1486.45 1274.56,1470.09 \n",
       "  \"/>\n",
       "<polyline clip-path=\"url(#clip500)\" style=\"stroke:#000000; stroke-linecap:butt; stroke-linejoin:round; stroke-width:4; stroke-opacity:1; fill:none\" points=\"\n",
       "  1670.86,1486.45 1670.86,1470.09 \n",
       "  \"/>\n",
       "<polyline clip-path=\"url(#clip500)\" style=\"stroke:#000000; stroke-linecap:butt; stroke-linejoin:round; stroke-width:4; stroke-opacity:1; fill:none\" points=\"\n",
       "  2067.15,1486.45 2067.15,1470.09 \n",
       "  \"/>\n",
       "<path clip-path=\"url(#clip500)\" d=\"M472.354 1543.18 L479.992 1543.18 L479.992 1516.82 L471.682 1518.49 L471.682 1514.23 L479.946 1512.56 L484.622 1512.56 L484.622 1543.18 L492.261 1543.18 L492.261 1547.12 L472.354 1547.12 L472.354 1543.18 Z\" fill=\"#000000\" fill-rule=\"evenodd\" fill-opacity=\"1\" /><path clip-path=\"url(#clip500)\" d=\"M872.919 1543.18 L889.239 1543.18 L889.239 1547.12 L867.294 1547.12 L867.294 1543.18 Q869.956 1540.43 874.54 1535.8 Q879.146 1531.15 880.327 1529.81 Q882.572 1527.28 883.452 1525.55 Q884.355 1523.79 884.355 1522.1 Q884.355 1519.34 882.41 1517.61 Q880.489 1515.87 877.387 1515.87 Q875.188 1515.87 872.734 1516.63 Q870.304 1517.4 867.526 1518.95 L867.526 1514.23 Q870.35 1513.09 872.804 1512.51 Q875.257 1511.93 877.294 1511.93 Q882.665 1511.93 885.859 1514.62 Q889.054 1517.31 889.054 1521.8 Q889.054 1523.93 888.243 1525.85 Q887.456 1527.74 885.35 1530.34 Q884.771 1531.01 881.669 1534.23 Q878.568 1537.42 872.919 1543.18 Z\" fill=\"#000000\" fill-rule=\"evenodd\" fill-opacity=\"1\" /><path clip-path=\"url(#clip500)\" d=\"M1278.81 1528.49 Q1282.17 1529.2 1284.04 1531.47 Q1285.94 1533.74 1285.94 1537.07 Q1285.94 1542.19 1282.42 1544.99 Q1278.9 1547.79 1272.42 1547.79 Q1270.24 1547.79 1267.93 1547.35 Q1265.64 1546.93 1263.18 1546.08 L1263.18 1541.56 Q1265.13 1542.7 1267.44 1543.28 Q1269.76 1543.86 1272.28 1543.86 Q1276.68 1543.86 1278.97 1542.12 Q1281.29 1540.38 1281.29 1537.07 Q1281.29 1534.02 1279.13 1532.31 Q1277 1530.57 1273.18 1530.57 L1269.16 1530.57 L1269.16 1526.73 L1273.37 1526.73 Q1276.82 1526.73 1278.65 1525.36 Q1280.48 1523.97 1280.48 1521.38 Q1280.48 1518.72 1278.58 1517.31 Q1276.7 1515.87 1273.18 1515.87 Q1271.26 1515.87 1269.06 1516.29 Q1266.86 1516.7 1264.23 1517.58 L1264.23 1513.42 Q1266.89 1512.68 1269.2 1512.31 Q1271.54 1511.93 1273.6 1511.93 Q1278.93 1511.93 1282.03 1514.37 Q1285.13 1516.77 1285.13 1520.89 Q1285.13 1523.76 1283.49 1525.75 Q1281.84 1527.72 1278.81 1528.49 Z\" fill=\"#000000\" fill-rule=\"evenodd\" fill-opacity=\"1\" /><path clip-path=\"url(#clip500)\" d=\"M1673.87 1516.63 L1662.06 1535.08 L1673.87 1535.08 L1673.87 1516.63 M1672.64 1512.56 L1678.52 1512.56 L1678.52 1535.08 L1683.45 1535.08 L1683.45 1538.97 L1678.52 1538.97 L1678.52 1547.12 L1673.87 1547.12 L1673.87 1538.97 L1658.26 1538.97 L1658.26 1534.46 L1672.64 1512.56 Z\" fill=\"#000000\" fill-rule=\"evenodd\" fill-opacity=\"1\" /><path clip-path=\"url(#clip500)\" d=\"M2057.43 1512.56 L2075.79 1512.56 L2075.79 1516.5 L2061.71 1516.5 L2061.71 1524.97 Q2062.73 1524.62 2063.75 1524.46 Q2064.77 1524.27 2065.79 1524.27 Q2071.57 1524.27 2074.95 1527.44 Q2078.33 1530.62 2078.33 1536.03 Q2078.33 1541.61 2074.86 1544.71 Q2071.39 1547.79 2065.07 1547.79 Q2062.89 1547.79 2060.62 1547.42 Q2058.38 1547.05 2055.97 1546.31 L2055.97 1541.61 Q2058.05 1542.74 2060.28 1543.3 Q2062.5 1543.86 2064.98 1543.86 Q2068.98 1543.86 2071.32 1541.75 Q2073.66 1539.64 2073.66 1536.03 Q2073.66 1532.42 2071.32 1530.31 Q2068.98 1528.21 2064.98 1528.21 Q2063.1 1528.21 2061.23 1528.62 Q2059.37 1529.04 2057.43 1529.92 L2057.43 1512.56 Z\" fill=\"#000000\" fill-rule=\"evenodd\" fill-opacity=\"1\" /><polyline clip-path=\"url(#clip502)\" style=\"stroke:#000000; stroke-linecap:butt; stroke-linejoin:round; stroke-width:2; stroke-opacity:0.1; fill:none\" points=\"\n",
       "  224.098,1355.8 2352.76,1355.8 \n",
       "  \"/>\n",
       "<polyline clip-path=\"url(#clip502)\" style=\"stroke:#000000; stroke-linecap:butt; stroke-linejoin:round; stroke-width:2; stroke-opacity:0.1; fill:none\" points=\"\n",
       "  224.098,1104.82 2352.76,1104.82 \n",
       "  \"/>\n",
       "<polyline clip-path=\"url(#clip502)\" style=\"stroke:#000000; stroke-linecap:butt; stroke-linejoin:round; stroke-width:2; stroke-opacity:0.1; fill:none\" points=\"\n",
       "  224.098,853.841 2352.76,853.841 \n",
       "  \"/>\n",
       "<polyline clip-path=\"url(#clip502)\" style=\"stroke:#000000; stroke-linecap:butt; stroke-linejoin:round; stroke-width:2; stroke-opacity:0.1; fill:none\" points=\"\n",
       "  224.098,602.864 2352.76,602.864 \n",
       "  \"/>\n",
       "<polyline clip-path=\"url(#clip502)\" style=\"stroke:#000000; stroke-linecap:butt; stroke-linejoin:round; stroke-width:2; stroke-opacity:0.1; fill:none\" points=\"\n",
       "  224.098,351.886 2352.76,351.886 \n",
       "  \"/>\n",
       "<polyline clip-path=\"url(#clip500)\" style=\"stroke:#000000; stroke-linecap:butt; stroke-linejoin:round; stroke-width:4; stroke-opacity:1; fill:none\" points=\"\n",
       "  224.098,1486.45 224.098,123.472 \n",
       "  \"/>\n",
       "<polyline clip-path=\"url(#clip500)\" style=\"stroke:#000000; stroke-linecap:butt; stroke-linejoin:round; stroke-width:4; stroke-opacity:1; fill:none\" points=\"\n",
       "  224.098,1355.8 249.642,1355.8 \n",
       "  \"/>\n",
       "<polyline clip-path=\"url(#clip500)\" style=\"stroke:#000000; stroke-linecap:butt; stroke-linejoin:round; stroke-width:4; stroke-opacity:1; fill:none\" points=\"\n",
       "  224.098,1104.82 249.642,1104.82 \n",
       "  \"/>\n",
       "<polyline clip-path=\"url(#clip500)\" style=\"stroke:#000000; stroke-linecap:butt; stroke-linejoin:round; stroke-width:4; stroke-opacity:1; fill:none\" points=\"\n",
       "  224.098,853.841 249.642,853.841 \n",
       "  \"/>\n",
       "<polyline clip-path=\"url(#clip500)\" style=\"stroke:#000000; stroke-linecap:butt; stroke-linejoin:round; stroke-width:4; stroke-opacity:1; fill:none\" points=\"\n",
       "  224.098,602.864 249.642,602.864 \n",
       "  \"/>\n",
       "<polyline clip-path=\"url(#clip500)\" style=\"stroke:#000000; stroke-linecap:butt; stroke-linejoin:round; stroke-width:4; stroke-opacity:1; fill:none\" points=\"\n",
       "  224.098,351.886 249.642,351.886 \n",
       "  \"/>\n",
       "<path clip-path=\"url(#clip500)\" d=\"M50.9921 1356.25 L80.6679 1356.25 L80.6679 1360.18 L50.9921 1360.18 L50.9921 1356.25 Z\" fill=\"#000000\" fill-rule=\"evenodd\" fill-opacity=\"1\" /><path clip-path=\"url(#clip500)\" d=\"M91.5706 1369.14 L99.2095 1369.14 L99.2095 1342.77 L90.8993 1344.44 L90.8993 1340.18 L99.1632 1338.52 L103.839 1338.52 L103.839 1369.14 L111.478 1369.14 L111.478 1373.08 L91.5706 1373.08 L91.5706 1369.14 Z\" fill=\"#000000\" fill-rule=\"evenodd\" fill-opacity=\"1\" /><path clip-path=\"url(#clip500)\" d=\"M130.922 1341.59 Q127.311 1341.59 125.482 1345.16 Q123.677 1348.7 123.677 1355.83 Q123.677 1362.94 125.482 1366.5 Q127.311 1370.04 130.922 1370.04 Q134.556 1370.04 136.362 1366.5 Q138.191 1362.94 138.191 1355.83 Q138.191 1348.7 136.362 1345.16 Q134.556 1341.59 130.922 1341.59 M130.922 1337.89 Q136.732 1337.89 139.788 1342.5 Q142.867 1347.08 142.867 1355.83 Q142.867 1364.56 139.788 1369.16 Q136.732 1373.75 130.922 1373.75 Q125.112 1373.75 122.033 1369.16 Q118.978 1364.56 118.978 1355.83 Q118.978 1347.08 122.033 1342.5 Q125.112 1337.89 130.922 1337.89 Z\" fill=\"#000000\" fill-rule=\"evenodd\" fill-opacity=\"1\" /><path clip-path=\"url(#clip500)\" d=\"M151.084 1367.2 L155.968 1367.2 L155.968 1373.08 L151.084 1373.08 L151.084 1367.2 Z\" fill=\"#000000\" fill-rule=\"evenodd\" fill-opacity=\"1\" /><path clip-path=\"url(#clip500)\" d=\"M176.153 1341.59 Q172.542 1341.59 170.714 1345.16 Q168.908 1348.7 168.908 1355.83 Q168.908 1362.94 170.714 1366.5 Q172.542 1370.04 176.153 1370.04 Q179.788 1370.04 181.593 1366.5 Q183.422 1362.94 183.422 1355.83 Q183.422 1348.7 181.593 1345.16 Q179.788 1341.59 176.153 1341.59 M176.153 1337.89 Q181.964 1337.89 185.019 1342.5 Q188.098 1347.08 188.098 1355.83 Q188.098 1364.56 185.019 1369.16 Q181.964 1373.75 176.153 1373.75 Q170.343 1373.75 167.265 1369.16 Q164.209 1364.56 164.209 1355.83 Q164.209 1347.08 167.265 1342.5 Q170.343 1337.89 176.153 1337.89 Z\" fill=\"#000000\" fill-rule=\"evenodd\" fill-opacity=\"1\" /><path clip-path=\"url(#clip500)\" d=\"M82.1494 1105.27 L111.825 1105.27 L111.825 1109.2 L82.1494 1109.2 L82.1494 1105.27 Z\" fill=\"#000000\" fill-rule=\"evenodd\" fill-opacity=\"1\" /><path clip-path=\"url(#clip500)\" d=\"M120.737 1087.54 L142.959 1087.54 L142.959 1089.53 L130.413 1122.1 L125.529 1122.1 L137.334 1091.47 L120.737 1091.47 L120.737 1087.54 Z\" fill=\"#000000\" fill-rule=\"evenodd\" fill-opacity=\"1\" /><path clip-path=\"url(#clip500)\" d=\"M152.08 1116.22 L156.964 1116.22 L156.964 1122.1 L152.08 1122.1 L152.08 1116.22 Z\" fill=\"#000000\" fill-rule=\"evenodd\" fill-opacity=\"1\" /><path clip-path=\"url(#clip500)\" d=\"M167.195 1087.54 L185.552 1087.54 L185.552 1091.47 L171.478 1091.47 L171.478 1099.95 Q172.496 1099.6 173.515 1099.44 Q174.533 1099.25 175.552 1099.25 Q181.339 1099.25 184.718 1102.42 Q188.098 1105.59 188.098 1111.01 Q188.098 1116.59 184.626 1119.69 Q181.153 1122.77 174.834 1122.77 Q172.658 1122.77 170.39 1122.4 Q168.144 1122.03 165.737 1121.29 L165.737 1116.59 Q167.82 1117.72 170.042 1118.28 Q172.265 1118.83 174.741 1118.83 Q178.746 1118.83 181.084 1116.73 Q183.422 1114.62 183.422 1111.01 Q183.422 1107.4 181.084 1105.29 Q178.746 1103.19 174.741 1103.19 Q172.866 1103.19 170.991 1103.6 Q169.14 1104.02 167.195 1104.9 L167.195 1087.54 Z\" fill=\"#000000\" fill-rule=\"evenodd\" fill-opacity=\"1\" /><path clip-path=\"url(#clip500)\" d=\"M81.154 854.292 L110.83 854.292 L110.83 858.228 L81.154 858.228 L81.154 854.292 Z\" fill=\"#000000\" fill-rule=\"evenodd\" fill-opacity=\"1\" /><path clip-path=\"url(#clip500)\" d=\"M120.969 836.561 L139.325 836.561 L139.325 840.496 L125.251 840.496 L125.251 848.968 Q126.27 848.621 127.288 848.459 Q128.307 848.274 129.325 848.274 Q135.112 848.274 138.492 851.445 Q141.871 854.616 141.871 860.033 Q141.871 865.612 138.399 868.714 Q134.927 871.792 128.607 871.792 Q126.432 871.792 124.163 871.422 Q121.918 871.052 119.51 870.311 L119.51 865.612 Q121.594 866.746 123.816 867.302 Q126.038 867.857 128.515 867.857 Q132.519 867.857 134.857 865.751 Q137.195 863.644 137.195 860.033 Q137.195 856.422 134.857 854.316 Q132.519 852.209 128.515 852.209 Q126.64 852.209 124.765 852.626 Q122.913 853.042 120.969 853.922 L120.969 836.561 Z\" fill=\"#000000\" fill-rule=\"evenodd\" fill-opacity=\"1\" /><path clip-path=\"url(#clip500)\" d=\"M151.084 865.241 L155.968 865.241 L155.968 871.121 L151.084 871.121 L151.084 865.241 Z\" fill=\"#000000\" fill-rule=\"evenodd\" fill-opacity=\"1\" /><path clip-path=\"url(#clip500)\" d=\"M176.153 839.64 Q172.542 839.64 170.714 843.204 Q168.908 846.746 168.908 853.876 Q168.908 860.982 170.714 864.547 Q172.542 868.089 176.153 868.089 Q179.788 868.089 181.593 864.547 Q183.422 860.982 183.422 853.876 Q183.422 846.746 181.593 843.204 Q179.788 839.64 176.153 839.64 M176.153 835.936 Q181.964 835.936 185.019 840.542 Q188.098 845.126 188.098 853.876 Q188.098 862.602 185.019 867.209 Q181.964 871.792 176.153 871.792 Q170.343 871.792 167.265 867.209 Q164.209 862.602 164.209 853.876 Q164.209 845.126 167.265 840.542 Q170.343 835.936 176.153 835.936 Z\" fill=\"#000000\" fill-rule=\"evenodd\" fill-opacity=\"1\" /><path clip-path=\"url(#clip500)\" d=\"M82.1494 603.315 L111.825 603.315 L111.825 607.25 L82.1494 607.25 L82.1494 603.315 Z\" fill=\"#000000\" fill-rule=\"evenodd\" fill-opacity=\"1\" /><path clip-path=\"url(#clip500)\" d=\"M125.945 616.208 L142.265 616.208 L142.265 620.144 L120.32 620.144 L120.32 616.208 Q122.982 613.454 127.566 608.824 Q132.172 604.171 133.353 602.829 Q135.598 600.306 136.478 598.57 Q137.381 596.81 137.381 595.121 Q137.381 592.366 135.436 590.63 Q133.515 588.894 130.413 588.894 Q128.214 588.894 125.76 589.658 Q123.33 590.422 120.552 591.972 L120.552 587.25 Q123.376 586.116 125.83 585.537 Q128.283 584.959 130.32 584.959 Q135.691 584.959 138.885 587.644 Q142.08 590.329 142.08 594.82 Q142.08 596.949 141.269 598.871 Q140.482 600.769 138.376 603.361 Q137.797 604.033 134.695 607.25 Q131.594 610.445 125.945 616.208 Z\" fill=\"#000000\" fill-rule=\"evenodd\" fill-opacity=\"1\" /><path clip-path=\"url(#clip500)\" d=\"M152.08 614.264 L156.964 614.264 L156.964 620.144 L152.08 620.144 L152.08 614.264 Z\" fill=\"#000000\" fill-rule=\"evenodd\" fill-opacity=\"1\" /><path clip-path=\"url(#clip500)\" d=\"M167.195 585.584 L185.552 585.584 L185.552 589.519 L171.478 589.519 L171.478 597.991 Q172.496 597.644 173.515 597.482 Q174.533 597.296 175.552 597.296 Q181.339 597.296 184.718 600.468 Q188.098 603.639 188.098 609.056 Q188.098 614.634 184.626 617.736 Q181.153 620.815 174.834 620.815 Q172.658 620.815 170.39 620.445 Q168.144 620.074 165.737 619.333 L165.737 614.634 Q167.82 615.769 170.042 616.324 Q172.265 616.88 174.741 616.88 Q178.746 616.88 181.084 614.773 Q183.422 612.667 183.422 609.056 Q183.422 605.445 181.084 603.338 Q178.746 601.232 174.741 601.232 Q172.866 601.232 170.991 601.648 Q169.14 602.065 167.195 602.945 L167.195 585.584 Z\" fill=\"#000000\" fill-rule=\"evenodd\" fill-opacity=\"1\" /><path clip-path=\"url(#clip500)\" d=\"M130.922 337.685 Q127.311 337.685 125.482 341.25 Q123.677 344.791 123.677 351.921 Q123.677 359.027 125.482 362.592 Q127.311 366.134 130.922 366.134 Q134.556 366.134 136.362 362.592 Q138.191 359.027 138.191 351.921 Q138.191 344.791 136.362 341.25 Q134.556 337.685 130.922 337.685 M130.922 333.981 Q136.732 333.981 139.788 338.588 Q142.867 343.171 142.867 351.921 Q142.867 360.648 139.788 365.254 Q136.732 369.837 130.922 369.837 Q125.112 369.837 122.033 365.254 Q118.978 360.648 118.978 351.921 Q118.978 343.171 122.033 338.588 Q125.112 333.981 130.922 333.981 Z\" fill=\"#000000\" fill-rule=\"evenodd\" fill-opacity=\"1\" /><path clip-path=\"url(#clip500)\" d=\"M151.084 363.287 L155.968 363.287 L155.968 369.166 L151.084 369.166 L151.084 363.287 Z\" fill=\"#000000\" fill-rule=\"evenodd\" fill-opacity=\"1\" /><path clip-path=\"url(#clip500)\" d=\"M176.153 337.685 Q172.542 337.685 170.714 341.25 Q168.908 344.791 168.908 351.921 Q168.908 359.027 170.714 362.592 Q172.542 366.134 176.153 366.134 Q179.788 366.134 181.593 362.592 Q183.422 359.027 183.422 351.921 Q183.422 344.791 181.593 341.25 Q179.788 337.685 176.153 337.685 M176.153 333.981 Q181.964 333.981 185.019 338.588 Q188.098 343.171 188.098 351.921 Q188.098 360.648 185.019 365.254 Q181.964 369.837 176.153 369.837 Q170.343 369.837 167.265 365.254 Q164.209 360.648 164.209 351.921 Q164.209 343.171 167.265 338.588 Q170.343 333.981 176.153 333.981 Z\" fill=\"#000000\" fill-rule=\"evenodd\" fill-opacity=\"1\" /><path clip-path=\"url(#clip500)\" d=\"M978.938 12.096 L991.131 12.096 L1006.56 53.2532 L1022.08 12.096 L1034.27 12.096 L1034.27 72.576 L1026.29 72.576 L1026.29 19.4686 L1010.7 60.9499 L1002.47 60.9499 L986.878 19.4686 L986.878 72.576 L978.938 72.576 L978.938 12.096 Z\" fill=\"#000000\" fill-rule=\"evenodd\" fill-opacity=\"1\" /><path clip-path=\"url(#clip500)\" d=\"M1069.07 76.7889 Q1065.91 84.8907 1062.91 87.3618 Q1059.92 89.8329 1054.89 89.8329 L1048.94 89.8329 L1048.94 83.5945 L1053.31 83.5945 Q1056.39 83.5945 1058.09 82.1361 Q1059.79 80.6778 1061.86 75.2496 L1063.2 71.8468 L1044.85 27.2059 L1052.75 27.2059 L1066.92 62.6918 L1081.1 27.2059 L1089 27.2059 L1069.07 76.7889 Z\" fill=\"#000000\" fill-rule=\"evenodd\" fill-opacity=\"1\" /><path clip-path=\"url(#clip500)\" d=\"M1162.24 14.0809 L1162.24 22.0612 Q1157.58 19.8332 1153.45 18.7395 Q1149.32 17.6457 1145.47 17.6457 Q1138.79 17.6457 1135.14 20.2383 Q1131.54 22.8309 1131.54 27.611 Q1131.54 31.6214 1133.93 33.6873 Q1136.36 35.7128 1143.08 36.9686 L1148.02 37.9813 Q1157.18 39.7232 1161.51 44.1387 Q1165.89 48.5136 1165.89 55.8863 Q1165.89 64.6767 1159.97 69.2137 Q1154.1 73.7508 1142.72 73.7508 Q1138.42 73.7508 1133.56 72.7785 Q1128.74 71.8063 1123.56 69.9024 L1123.56 61.4765 Q1128.54 64.2716 1133.32 65.6895 Q1138.1 67.1073 1142.72 67.1073 Q1149.72 67.1073 1153.53 64.3527 Q1157.34 61.598 1157.34 56.4939 Q1157.34 52.0379 1154.59 49.5264 Q1151.87 47.0148 1145.63 45.759 L1140.65 44.7868 Q1131.49 42.9639 1127.4 39.075 Q1123.31 35.1862 1123.31 28.2591 Q1123.31 20.2383 1128.94 15.6203 Q1134.61 11.0023 1144.54 11.0023 Q1148.79 11.0023 1153.21 11.7719 Q1157.62 12.5416 1162.24 14.0809 Z\" fill=\"#000000\" fill-rule=\"evenodd\" fill-opacity=\"1\" /><path clip-path=\"url(#clip500)\" d=\"M1210.97 28.9478 L1210.97 35.9153 Q1207.81 34.1734 1204.61 33.3227 Q1201.45 32.4315 1198.21 32.4315 Q1190.96 32.4315 1186.95 37.0496 Q1182.94 41.6271 1182.94 49.9314 Q1182.94 58.2358 1186.95 62.8538 Q1190.96 67.4314 1198.21 67.4314 Q1201.45 67.4314 1204.61 66.5807 Q1207.81 65.6895 1210.97 63.9476 L1210.97 70.8341 Q1207.85 72.2924 1204.49 73.0216 Q1201.17 73.7508 1197.4 73.7508 Q1187.15 73.7508 1181.12 67.3098 Q1175.08 60.8689 1175.08 49.9314 Q1175.08 38.832 1181.16 32.472 Q1187.28 26.1121 1197.89 26.1121 Q1201.33 26.1121 1204.61 26.8413 Q1207.89 27.5299 1210.97 28.9478 Z\" fill=\"#000000\" fill-rule=\"evenodd\" fill-opacity=\"1\" /><path clip-path=\"url(#clip500)\" d=\"M1244.56 49.7694 Q1235.52 49.7694 1232.04 51.8354 Q1228.55 53.9013 1228.55 58.8839 Q1228.55 62.8538 1231.15 65.2034 Q1233.78 67.5124 1238.28 67.5124 Q1244.47 67.5124 1248.2 63.1374 Q1251.97 58.7219 1251.97 51.4303 L1251.97 49.7694 L1244.56 49.7694 M1259.42 46.6907 L1259.42 72.576 L1251.97 72.576 L1251.97 65.6895 Q1249.42 69.8214 1245.61 71.8063 Q1241.8 73.7508 1236.29 73.7508 Q1229.32 73.7508 1225.19 69.8619 Q1221.1 65.9325 1221.1 59.3701 Q1221.1 51.7138 1226.21 47.825 Q1231.35 43.9361 1241.52 43.9361 L1251.97 43.9361 L1251.97 43.2069 Q1251.97 38.0623 1248.57 35.2672 Q1245.2 32.4315 1239.09 32.4315 Q1235.2 32.4315 1231.51 33.3632 Q1227.83 34.295 1224.42 36.1584 L1224.42 29.2718 Q1228.51 27.692 1232.36 26.9223 Q1236.21 26.1121 1239.86 26.1121 Q1249.7 26.1121 1254.56 31.2163 Q1259.42 36.3204 1259.42 46.6907 Z\" fill=\"#000000\" fill-rule=\"evenodd\" fill-opacity=\"1\" /><path clip-path=\"url(#clip500)\" d=\"M1282.15 14.324 L1282.15 27.2059 L1297.5 27.2059 L1297.5 32.9987 L1282.15 32.9987 L1282.15 57.6282 Q1282.15 63.1779 1283.65 64.7578 Q1285.19 66.3376 1289.84 66.3376 L1297.5 66.3376 L1297.5 72.576 L1289.84 72.576 Q1281.22 72.576 1277.94 69.3758 Q1274.65 66.1351 1274.65 57.6282 L1274.65 32.9987 L1269.19 32.9987 L1269.19 27.2059 L1274.65 27.2059 L1274.65 14.324 L1282.15 14.324 Z\" fill=\"#000000\" fill-rule=\"evenodd\" fill-opacity=\"1\" /><path clip-path=\"url(#clip500)\" d=\"M1314.68 14.324 L1314.68 27.2059 L1330.03 27.2059 L1330.03 32.9987 L1314.68 32.9987 L1314.68 57.6282 Q1314.68 63.1779 1316.18 64.7578 Q1317.71 66.3376 1322.37 66.3376 L1330.03 66.3376 L1330.03 72.576 L1322.37 72.576 Q1313.75 72.576 1310.46 69.3758 Q1307.18 66.1351 1307.18 57.6282 L1307.18 32.9987 L1301.71 32.9987 L1301.71 27.2059 L1307.18 27.2059 L1307.18 14.324 L1314.68 14.324 Z\" fill=\"#000000\" fill-rule=\"evenodd\" fill-opacity=\"1\" /><path clip-path=\"url(#clip500)\" d=\"M1378.64 48.0275 L1378.64 51.6733 L1344.37 51.6733 Q1344.86 59.3701 1348.99 63.421 Q1353.16 67.4314 1360.57 67.4314 Q1364.87 67.4314 1368.88 66.3781 Q1372.93 65.3249 1376.9 63.2184 L1376.9 70.267 Q1372.89 71.9684 1368.68 72.8596 Q1364.46 73.7508 1360.13 73.7508 Q1349.27 73.7508 1342.91 67.4314 Q1336.59 61.1119 1336.59 50.3365 Q1336.59 39.1965 1342.59 32.6746 Q1348.62 26.1121 1358.83 26.1121 Q1367.99 26.1121 1373.29 32.0264 Q1378.64 37.9003 1378.64 48.0275 M1371.19 45.84 Q1371.11 39.7232 1367.74 36.0774 Q1364.42 32.4315 1358.91 32.4315 Q1352.67 32.4315 1348.91 35.9558 Q1345.18 39.4801 1344.61 45.8805 L1371.19 45.84 Z\" fill=\"#000000\" fill-rule=\"evenodd\" fill-opacity=\"1\" /><path clip-path=\"url(#clip500)\" d=\"M1417.16 34.1734 Q1415.91 33.4443 1414.41 33.1202 Q1412.95 32.7556 1411.17 32.7556 Q1404.85 32.7556 1401.45 36.8875 Q1398.08 40.9789 1398.08 48.6757 L1398.08 72.576 L1390.59 72.576 L1390.59 27.2059 L1398.08 27.2059 L1398.08 34.2544 Q1400.43 30.1225 1404.2 28.1376 Q1407.97 26.1121 1413.36 26.1121 Q1414.13 26.1121 1415.06 26.2337 Q1415.99 26.3147 1417.12 26.5172 L1417.16 34.1734 Z\" fill=\"#000000\" fill-rule=\"evenodd\" fill-opacity=\"1\" /><path clip-path=\"url(#clip500)\" d=\"M1459.86 18.8205 L1459.86 41.5461 L1470.15 41.5461 Q1475.86 41.5461 1478.98 38.5889 Q1482.1 35.6318 1482.1 30.163 Q1482.1 24.7348 1478.98 21.7777 Q1475.86 18.8205 1470.15 18.8205 L1459.86 18.8205 M1451.68 12.096 L1470.15 12.096 Q1480.32 12.096 1485.5 16.714 Q1490.73 21.2916 1490.73 30.163 Q1490.73 39.1155 1485.5 43.6931 Q1480.32 48.2706 1470.15 48.2706 L1459.86 48.2706 L1459.86 72.576 L1451.68 72.576 L1451.68 12.096 Z\" fill=\"#000000\" fill-rule=\"evenodd\" fill-opacity=\"1\" /><path clip-path=\"url(#clip500)\" d=\"M1501.38 9.54393 L1508.84 9.54393 L1508.84 72.576 L1501.38 72.576 L1501.38 9.54393 Z\" fill=\"#000000\" fill-rule=\"evenodd\" fill-opacity=\"1\" /><path clip-path=\"url(#clip500)\" d=\"M1542.01 32.4315 Q1536.02 32.4315 1532.53 37.1306 Q1529.05 41.7891 1529.05 49.9314 Q1529.05 58.0738 1532.49 62.7728 Q1535.98 67.4314 1542.01 67.4314 Q1547.97 67.4314 1551.45 62.7323 Q1554.94 58.0333 1554.94 49.9314 Q1554.94 41.8701 1551.45 37.1711 Q1547.97 32.4315 1542.01 32.4315 M1542.01 26.1121 Q1551.74 26.1121 1557.29 32.4315 Q1562.84 38.7509 1562.84 49.9314 Q1562.84 61.0714 1557.29 67.4314 Q1551.74 73.7508 1542.01 73.7508 Q1532.25 73.7508 1526.7 67.4314 Q1521.19 61.0714 1521.19 49.9314 Q1521.19 38.7509 1526.7 32.4315 Q1532.25 26.1121 1542.01 26.1121 Z\" fill=\"#000000\" fill-rule=\"evenodd\" fill-opacity=\"1\" /><path clip-path=\"url(#clip500)\" d=\"M1582.56 14.324 L1582.56 27.2059 L1597.92 27.2059 L1597.92 32.9987 L1582.56 32.9987 L1582.56 57.6282 Q1582.56 63.1779 1584.06 64.7578 Q1585.6 66.3376 1590.26 66.3376 L1597.92 66.3376 L1597.92 72.576 L1590.26 72.576 Q1581.63 72.576 1578.35 69.3758 Q1575.07 66.1351 1575.07 57.6282 L1575.07 32.9987 L1569.6 32.9987 L1569.6 27.2059 L1575.07 27.2059 L1575.07 14.324 L1582.56 14.324 Z\" fill=\"#000000\" fill-rule=\"evenodd\" fill-opacity=\"1\" /><circle clip-path=\"url(#clip502)\" cx=\"751.471\" cy=\"516.698\" r=\"14\" fill=\"#009af9\" fill-rule=\"evenodd\" fill-opacity=\"1\" stroke=\"#000000\" stroke-opacity=\"1\" stroke-width=\"3.2\"/>\n",
       "<circle clip-path=\"url(#clip502)\" cx=\"284.343\" cy=\"450.038\" r=\"14\" fill=\"#009af9\" fill-rule=\"evenodd\" fill-opacity=\"1\" stroke=\"#000000\" stroke-opacity=\"1\" stroke-width=\"3.2\"/>\n",
       "<circle clip-path=\"url(#clip502)\" cx=\"691.22\" cy=\"298.909\" r=\"14\" fill=\"#009af9\" fill-rule=\"evenodd\" fill-opacity=\"1\" stroke=\"#000000\" stroke-opacity=\"1\" stroke-width=\"3.2\"/>\n",
       "<circle clip-path=\"url(#clip502)\" cx=\"759.427\" cy=\"180.065\" r=\"14\" fill=\"#009af9\" fill-rule=\"evenodd\" fill-opacity=\"1\" stroke=\"#000000\" stroke-opacity=\"1\" stroke-width=\"3.2\"/>\n",
       "<circle clip-path=\"url(#clip502)\" cx=\"875.292\" cy=\"162.047\" r=\"14\" fill=\"#009af9\" fill-rule=\"evenodd\" fill-opacity=\"1\" stroke=\"#000000\" stroke-opacity=\"1\" stroke-width=\"3.2\"/>\n",
       "<circle clip-path=\"url(#clip502)\" cx=\"1158.08\" cy=\"398.41\" r=\"14\" fill=\"#009af9\" fill-rule=\"evenodd\" fill-opacity=\"1\" stroke=\"#000000\" stroke-opacity=\"1\" stroke-width=\"3.2\"/>\n",
       "<circle clip-path=\"url(#clip502)\" cx=\"1272.55\" cy=\"396.416\" r=\"14\" fill=\"#009af9\" fill-rule=\"evenodd\" fill-opacity=\"1\" stroke=\"#000000\" stroke-opacity=\"1\" stroke-width=\"3.2\"/>\n",
       "<circle clip-path=\"url(#clip502)\" cx=\"1469.48\" cy=\"479.903\" r=\"14\" fill=\"#009af9\" fill-rule=\"evenodd\" fill-opacity=\"1\" stroke=\"#000000\" stroke-opacity=\"1\" stroke-width=\"3.2\"/>\n",
       "<circle clip-path=\"url(#clip502)\" cx=\"1473.18\" cy=\"421.206\" r=\"14\" fill=\"#009af9\" fill-rule=\"evenodd\" fill-opacity=\"1\" stroke=\"#000000\" stroke-opacity=\"1\" stroke-width=\"3.2\"/>\n",
       "<circle clip-path=\"url(#clip502)\" cx=\"1853.12\" cy=\"905.656\" r=\"14\" fill=\"#009af9\" fill-rule=\"evenodd\" fill-opacity=\"1\" stroke=\"#000000\" stroke-opacity=\"1\" stroke-width=\"3.2\"/>\n",
       "<circle clip-path=\"url(#clip502)\" cx=\"2042.17\" cy=\"954.403\" r=\"14\" fill=\"#009af9\" fill-rule=\"evenodd\" fill-opacity=\"1\" stroke=\"#000000\" stroke-opacity=\"1\" stroke-width=\"3.2\"/>\n",
       "<circle clip-path=\"url(#clip502)\" cx=\"2076.38\" cy=\"1191.57\" r=\"14\" fill=\"#009af9\" fill-rule=\"evenodd\" fill-opacity=\"1\" stroke=\"#000000\" stroke-opacity=\"1\" stroke-width=\"3.2\"/>\n",
       "<circle clip-path=\"url(#clip502)\" cx=\"2083.93\" cy=\"1147.43\" r=\"14\" fill=\"#009af9\" fill-rule=\"evenodd\" fill-opacity=\"1\" stroke=\"#000000\" stroke-opacity=\"1\" stroke-width=\"3.2\"/>\n",
       "<circle clip-path=\"url(#clip502)\" cx=\"2268.23\" cy=\"1433.58\" r=\"14\" fill=\"#009af9\" fill-rule=\"evenodd\" fill-opacity=\"1\" stroke=\"#000000\" stroke-opacity=\"1\" stroke-width=\"3.2\"/>\n",
       "<circle clip-path=\"url(#clip502)\" cx=\"2292.51\" cy=\"1447.87\" r=\"14\" fill=\"#009af9\" fill-rule=\"evenodd\" fill-opacity=\"1\" stroke=\"#000000\" stroke-opacity=\"1\" stroke-width=\"3.2\"/>\n",
       "<path clip-path=\"url(#clip500)\" d=\"\n",
       "M1992.85 289.865 L2281.8 289.865 L2281.8 168.905 L1992.85 168.905  Z\n",
       "  \" fill=\"#ffffff\" fill-rule=\"evenodd\" fill-opacity=\"1\"/>\n",
       "<polyline clip-path=\"url(#clip500)\" style=\"stroke:#000000; stroke-linecap:butt; stroke-linejoin:round; stroke-width:4; stroke-opacity:1; fill:none\" points=\"\n",
       "  1992.85,289.865 2281.8,289.865 2281.8,168.905 1992.85,168.905 1992.85,289.865 \n",
       "  \"/>\n",
       "<circle clip-path=\"url(#clip500)\" cx=\"2087.46\" cy=\"229.385\" r=\"23\" fill=\"#009af9\" fill-rule=\"evenodd\" fill-opacity=\"1\" stroke=\"#000000\" stroke-opacity=\"1\" stroke-width=\"5.12\"/>\n",
       "<path clip-path=\"url(#clip500)\" d=\"M2195.91 249.072 Q2194.1 253.702 2192.39 255.114 Q2190.68 256.526 2187.81 256.526 L2184.4 256.526 L2184.4 252.961 L2186.9 252.961 Q2188.66 252.961 2189.64 252.128 Q2190.61 251.294 2191.79 248.192 L2192.55 246.248 L2182.07 220.739 L2186.58 220.739 L2194.68 241.017 L2202.78 220.739 L2207.3 220.739 L2195.91 249.072 Z\" fill=\"#000000\" fill-rule=\"evenodd\" fill-opacity=\"1\" /><path clip-path=\"url(#clip500)\" d=\"M2214.59 242.729 L2222.23 242.729 L2222.23 216.364 L2213.92 218.031 L2213.92 213.771 L2222.18 212.105 L2226.86 212.105 L2226.86 242.729 L2234.5 242.729 L2234.5 246.665 L2214.59 246.665 L2214.59 242.729 Z\" fill=\"#000000\" fill-rule=\"evenodd\" fill-opacity=\"1\" /></svg>\n"
      ]
     },
     "execution_count": 18,
     "metadata": {},
     "output_type": "execute_result"
    }
   ],
   "source": [
    "# Plot the x and y data points using a scatter plot of the x and y array variables\n",
    "gr() \n",
    "scatter(x, y, title = \"My Scatter Plot\")"
   ]
  },
  {
   "cell_type": "markdown",
   "metadata": {},
   "source": [
    "For the line, we need a function, which we now define. Note that the parameters a, b, c need not be passed to the function: we will keep resetting them to try to improve the fit."
   ]
  },
  {
   "cell_type": "code",
   "execution_count": 19,
   "metadata": {},
   "outputs": [
    {
     "data": {
      "text/plain": [
       "parabfit (generic function with 1 method)"
      ]
     },
     "execution_count": 19,
     "metadata": {},
     "output_type": "execute_result"
    }
   ],
   "source": [
    "# Create a function called parabfit, with x as the argument, returning a*x^2 + b*x + c\n",
    "function parabfit(x)\n",
    "    return a*x^2 + b*x + c\n",
    "end"
   ]
  },
  {
   "cell_type": "markdown",
   "metadata": {},
   "source": [
    "Let's check that we do get a reasonable parabola. Choose your own interval [xmin, xmax] and parameters a, b, c. If it looks too much like a straight line, chance your choices until it does."
   ]
  },
  {
   "cell_type": "code",
   "execution_count": 26,
   "metadata": {},
   "outputs": [
    {
     "data": {
      "image/svg+xml": [
       "<?xml version=\"1.0\" encoding=\"utf-8\"?>\n",
       "<svg xmlns=\"http://www.w3.org/2000/svg\" xmlns:xlink=\"http://www.w3.org/1999/xlink\" width=\"600\" height=\"400\" viewBox=\"0 0 2400 1600\">\n",
       "<defs>\n",
       "  <clipPath id=\"clip540\">\n",
       "    <rect x=\"0\" y=\"0\" width=\"2400\" height=\"1600\"/>\n",
       "  </clipPath>\n",
       "</defs>\n",
       "<path clip-path=\"url(#clip540)\" d=\"\n",
       "M0 1600 L2400 1600 L2400 0 L0 0  Z\n",
       "  \" fill=\"#ffffff\" fill-rule=\"evenodd\" fill-opacity=\"1\"/>\n",
       "<defs>\n",
       "  <clipPath id=\"clip541\">\n",
       "    <rect x=\"480\" y=\"0\" width=\"1681\" height=\"1600\"/>\n",
       "  </clipPath>\n",
       "</defs>\n",
       "<path clip-path=\"url(#clip540)\" d=\"\n",
       "M140.696 1486.45 L2352.76 1486.45 L2352.76 47.2441 L140.696 47.2441  Z\n",
       "  \" fill=\"#ffffff\" fill-rule=\"evenodd\" fill-opacity=\"1\"/>\n",
       "<defs>\n",
       "  <clipPath id=\"clip542\">\n",
       "    <rect x=\"140\" y=\"47\" width=\"2213\" height=\"1440\"/>\n",
       "  </clipPath>\n",
       "</defs>\n",
       "<polyline clip-path=\"url(#clip542)\" style=\"stroke:#000000; stroke-linecap:butt; stroke-linejoin:round; stroke-width:2; stroke-opacity:0.1; fill:none\" points=\"\n",
       "  411.986,1486.45 411.986,47.2441 \n",
       "  \"/>\n",
       "<polyline clip-path=\"url(#clip542)\" style=\"stroke:#000000; stroke-linecap:butt; stroke-linejoin:round; stroke-width:2; stroke-opacity:0.1; fill:none\" points=\"\n",
       "  829.356,1486.45 829.356,47.2441 \n",
       "  \"/>\n",
       "<polyline clip-path=\"url(#clip542)\" style=\"stroke:#000000; stroke-linecap:butt; stroke-linejoin:round; stroke-width:2; stroke-opacity:0.1; fill:none\" points=\"\n",
       "  1246.73,1486.45 1246.73,47.2441 \n",
       "  \"/>\n",
       "<polyline clip-path=\"url(#clip542)\" style=\"stroke:#000000; stroke-linecap:butt; stroke-linejoin:round; stroke-width:2; stroke-opacity:0.1; fill:none\" points=\"\n",
       "  1664.1,1486.45 1664.1,47.2441 \n",
       "  \"/>\n",
       "<polyline clip-path=\"url(#clip542)\" style=\"stroke:#000000; stroke-linecap:butt; stroke-linejoin:round; stroke-width:2; stroke-opacity:0.1; fill:none\" points=\"\n",
       "  2081.47,1486.45 2081.47,47.2441 \n",
       "  \"/>\n",
       "<polyline clip-path=\"url(#clip540)\" style=\"stroke:#000000; stroke-linecap:butt; stroke-linejoin:round; stroke-width:4; stroke-opacity:1; fill:none\" points=\"\n",
       "  140.696,1486.45 2352.76,1486.45 \n",
       "  \"/>\n",
       "<polyline clip-path=\"url(#clip540)\" style=\"stroke:#000000; stroke-linecap:butt; stroke-linejoin:round; stroke-width:4; stroke-opacity:1; fill:none\" points=\"\n",
       "  411.986,1486.45 411.986,1469.18 \n",
       "  \"/>\n",
       "<polyline clip-path=\"url(#clip540)\" style=\"stroke:#000000; stroke-linecap:butt; stroke-linejoin:round; stroke-width:4; stroke-opacity:1; fill:none\" points=\"\n",
       "  829.356,1486.45 829.356,1469.18 \n",
       "  \"/>\n",
       "<polyline clip-path=\"url(#clip540)\" style=\"stroke:#000000; stroke-linecap:butt; stroke-linejoin:round; stroke-width:4; stroke-opacity:1; fill:none\" points=\"\n",
       "  1246.73,1486.45 1246.73,1469.18 \n",
       "  \"/>\n",
       "<polyline clip-path=\"url(#clip540)\" style=\"stroke:#000000; stroke-linecap:butt; stroke-linejoin:round; stroke-width:4; stroke-opacity:1; fill:none\" points=\"\n",
       "  1664.1,1486.45 1664.1,1469.18 \n",
       "  \"/>\n",
       "<polyline clip-path=\"url(#clip540)\" style=\"stroke:#000000; stroke-linecap:butt; stroke-linejoin:round; stroke-width:4; stroke-opacity:1; fill:none\" points=\"\n",
       "  2081.47,1486.45 2081.47,1469.18 \n",
       "  \"/>\n",
       "<path clip-path=\"url(#clip540)\" d=\"M380.887 1530.29 L410.562 1530.29 L410.562 1534.23 L380.887 1534.23 L380.887 1530.29 Z\" fill=\"#000000\" fill-rule=\"evenodd\" fill-opacity=\"1\" /><path clip-path=\"url(#clip540)\" d=\"M433.502 1516.63 L421.697 1535.08 L433.502 1535.08 L433.502 1516.63 M432.275 1512.56 L438.155 1512.56 L438.155 1535.08 L443.085 1535.08 L443.085 1538.97 L438.155 1538.97 L438.155 1547.12 L433.502 1547.12 L433.502 1538.97 L417.9 1538.97 L417.9 1534.46 L432.275 1512.56 Z\" fill=\"#000000\" fill-rule=\"evenodd\" fill-opacity=\"1\" /><path clip-path=\"url(#clip540)\" d=\"M799.298 1530.29 L828.974 1530.29 L828.974 1534.23 L799.298 1534.23 L799.298 1530.29 Z\" fill=\"#000000\" fill-rule=\"evenodd\" fill-opacity=\"1\" /><path clip-path=\"url(#clip540)\" d=\"M843.094 1543.18 L859.414 1543.18 L859.414 1547.12 L837.469 1547.12 L837.469 1543.18 Q840.131 1540.43 844.715 1535.8 Q849.321 1531.15 850.502 1529.81 Q852.747 1527.28 853.627 1525.55 Q854.529 1523.79 854.529 1522.1 Q854.529 1519.34 852.585 1517.61 Q850.664 1515.87 847.562 1515.87 Q845.363 1515.87 842.909 1516.63 Q840.478 1517.4 837.701 1518.95 L837.701 1514.23 Q840.525 1513.09 842.978 1512.51 Q845.432 1511.93 847.469 1511.93 Q852.84 1511.93 856.034 1514.62 Q859.228 1517.31 859.228 1521.8 Q859.228 1523.93 858.418 1525.85 Q857.631 1527.74 855.525 1530.34 Q854.946 1531.01 851.844 1534.23 Q848.742 1537.42 843.094 1543.18 Z\" fill=\"#000000\" fill-rule=\"evenodd\" fill-opacity=\"1\" /><path clip-path=\"url(#clip540)\" d=\"M1246.73 1515.64 Q1243.11 1515.64 1241.29 1519.2 Q1239.48 1522.75 1239.48 1529.87 Q1239.48 1536.98 1241.29 1540.55 Q1243.11 1544.09 1246.73 1544.09 Q1250.36 1544.09 1252.17 1540.55 Q1253.99 1536.98 1253.99 1529.87 Q1253.99 1522.75 1252.17 1519.2 Q1250.36 1515.64 1246.73 1515.64 M1246.73 1511.93 Q1252.54 1511.93 1255.59 1516.54 Q1258.67 1521.12 1258.67 1529.87 Q1258.67 1538.6 1255.59 1543.21 Q1252.54 1547.79 1246.73 1547.79 Q1240.92 1547.79 1237.84 1543.21 Q1234.78 1538.6 1234.78 1529.87 Q1234.78 1521.12 1237.84 1516.54 Q1240.92 1511.93 1246.73 1511.93 Z\" fill=\"#000000\" fill-rule=\"evenodd\" fill-opacity=\"1\" /><path clip-path=\"url(#clip540)\" d=\"M1658.75 1543.18 L1675.07 1543.18 L1675.07 1547.12 L1653.12 1547.12 L1653.12 1543.18 Q1655.79 1540.43 1660.37 1535.8 Q1664.98 1531.15 1666.16 1529.81 Q1668.4 1527.28 1669.28 1525.55 Q1670.18 1523.79 1670.18 1522.1 Q1670.18 1519.34 1668.24 1517.61 Q1666.32 1515.87 1663.22 1515.87 Q1661.02 1515.87 1658.56 1516.63 Q1656.13 1517.4 1653.35 1518.95 L1653.35 1514.23 Q1656.18 1513.09 1658.63 1512.51 Q1661.09 1511.93 1663.12 1511.93 Q1668.49 1511.93 1671.69 1514.62 Q1674.88 1517.31 1674.88 1521.8 Q1674.88 1523.93 1674.07 1525.85 Q1673.29 1527.74 1671.18 1530.34 Q1670.6 1531.01 1667.5 1534.23 Q1664.4 1537.42 1658.75 1543.18 Z\" fill=\"#000000\" fill-rule=\"evenodd\" fill-opacity=\"1\" /><path clip-path=\"url(#clip540)\" d=\"M2084.47 1516.63 L2072.67 1535.08 L2084.47 1535.08 L2084.47 1516.63 M2083.25 1512.56 L2089.13 1512.56 L2089.13 1535.08 L2094.06 1535.08 L2094.06 1538.97 L2089.13 1538.97 L2089.13 1547.12 L2084.47 1547.12 L2084.47 1538.97 L2068.87 1538.97 L2068.87 1534.46 L2083.25 1512.56 Z\" fill=\"#000000\" fill-rule=\"evenodd\" fill-opacity=\"1\" /><polyline clip-path=\"url(#clip542)\" style=\"stroke:#000000; stroke-linecap:butt; stroke-linejoin:round; stroke-width:2; stroke-opacity:0.1; fill:none\" points=\"\n",
       "  140.696,1264.68 2352.76,1264.68 \n",
       "  \"/>\n",
       "<polyline clip-path=\"url(#clip542)\" style=\"stroke:#000000; stroke-linecap:butt; stroke-linejoin:round; stroke-width:2; stroke-opacity:0.1; fill:none\" points=\"\n",
       "  140.696,1038.39 2352.76,1038.39 \n",
       "  \"/>\n",
       "<polyline clip-path=\"url(#clip542)\" style=\"stroke:#000000; stroke-linecap:butt; stroke-linejoin:round; stroke-width:2; stroke-opacity:0.1; fill:none\" points=\"\n",
       "  140.696,812.104 2352.76,812.104 \n",
       "  \"/>\n",
       "<polyline clip-path=\"url(#clip542)\" style=\"stroke:#000000; stroke-linecap:butt; stroke-linejoin:round; stroke-width:2; stroke-opacity:0.1; fill:none\" points=\"\n",
       "  140.696,585.814 2352.76,585.814 \n",
       "  \"/>\n",
       "<polyline clip-path=\"url(#clip542)\" style=\"stroke:#000000; stroke-linecap:butt; stroke-linejoin:round; stroke-width:2; stroke-opacity:0.1; fill:none\" points=\"\n",
       "  140.696,359.524 2352.76,359.524 \n",
       "  \"/>\n",
       "<polyline clip-path=\"url(#clip542)\" style=\"stroke:#000000; stroke-linecap:butt; stroke-linejoin:round; stroke-width:2; stroke-opacity:0.1; fill:none\" points=\"\n",
       "  140.696,133.234 2352.76,133.234 \n",
       "  \"/>\n",
       "<polyline clip-path=\"url(#clip540)\" style=\"stroke:#000000; stroke-linecap:butt; stroke-linejoin:round; stroke-width:4; stroke-opacity:1; fill:none\" points=\"\n",
       "  140.696,1486.45 140.696,47.2441 \n",
       "  \"/>\n",
       "<polyline clip-path=\"url(#clip540)\" style=\"stroke:#000000; stroke-linecap:butt; stroke-linejoin:round; stroke-width:4; stroke-opacity:1; fill:none\" points=\"\n",
       "  140.696,1264.68 167.24,1264.68 \n",
       "  \"/>\n",
       "<polyline clip-path=\"url(#clip540)\" style=\"stroke:#000000; stroke-linecap:butt; stroke-linejoin:round; stroke-width:4; stroke-opacity:1; fill:none\" points=\"\n",
       "  140.696,1038.39 167.24,1038.39 \n",
       "  \"/>\n",
       "<polyline clip-path=\"url(#clip540)\" style=\"stroke:#000000; stroke-linecap:butt; stroke-linejoin:round; stroke-width:4; stroke-opacity:1; fill:none\" points=\"\n",
       "  140.696,812.104 167.24,812.104 \n",
       "  \"/>\n",
       "<polyline clip-path=\"url(#clip540)\" style=\"stroke:#000000; stroke-linecap:butt; stroke-linejoin:round; stroke-width:4; stroke-opacity:1; fill:none\" points=\"\n",
       "  140.696,585.814 167.24,585.814 \n",
       "  \"/>\n",
       "<polyline clip-path=\"url(#clip540)\" style=\"stroke:#000000; stroke-linecap:butt; stroke-linejoin:round; stroke-width:4; stroke-opacity:1; fill:none\" points=\"\n",
       "  140.696,359.524 167.24,359.524 \n",
       "  \"/>\n",
       "<polyline clip-path=\"url(#clip540)\" style=\"stroke:#000000; stroke-linecap:butt; stroke-linejoin:round; stroke-width:4; stroke-opacity:1; fill:none\" points=\"\n",
       "  140.696,133.234 167.24,133.234 \n",
       "  \"/>\n",
       "<path clip-path=\"url(#clip540)\" d=\"M83.7929 1247.4 L102.149 1247.4 L102.149 1251.34 L88.0753 1251.34 L88.0753 1259.81 Q89.0938 1259.46 90.1123 1259.3 Q91.1308 1259.12 92.1493 1259.12 Q97.9363 1259.12 101.316 1262.29 Q104.696 1265.46 104.696 1270.88 Q104.696 1276.45 101.223 1279.56 Q97.7511 1282.64 91.4317 1282.64 Q89.2558 1282.64 86.9873 1282.26 Q84.7419 1281.89 82.3346 1281.15 L82.3346 1276.45 Q84.4179 1277.59 86.6401 1278.14 Q88.8623 1278.7 91.3391 1278.7 Q95.3437 1278.7 97.6817 1276.59 Q100.02 1274.49 100.02 1270.88 Q100.02 1267.26 97.6817 1265.16 Q95.3437 1263.05 91.3391 1263.05 Q89.4641 1263.05 87.5892 1263.47 Q85.7373 1263.89 83.7929 1264.76 L83.7929 1247.4 Z\" fill=\"#000000\" fill-rule=\"evenodd\" fill-opacity=\"1\" /><path clip-path=\"url(#clip540)\" d=\"M53.3995 1051.74 L61.0384 1051.74 L61.0384 1025.37 L52.7282 1027.04 L52.7282 1022.78 L60.9921 1021.11 L65.668 1021.11 L65.668 1051.74 L73.3068 1051.74 L73.3068 1055.67 L53.3995 1055.67 L53.3995 1051.74 Z\" fill=\"#000000\" fill-rule=\"evenodd\" fill-opacity=\"1\" /><path clip-path=\"url(#clip540)\" d=\"M92.7512 1024.19 Q89.1401 1024.19 87.3114 1027.76 Q85.5058 1031.3 85.5058 1038.43 Q85.5058 1045.54 87.3114 1049.1 Q89.1401 1052.64 92.7512 1052.64 Q96.3854 1052.64 98.1909 1049.1 Q100.02 1045.54 100.02 1038.43 Q100.02 1031.3 98.1909 1027.76 Q96.3854 1024.19 92.7512 1024.19 M92.7512 1020.49 Q98.5613 1020.49 101.617 1025.1 Q104.696 1029.68 104.696 1038.43 Q104.696 1047.16 101.617 1051.76 Q98.5613 1056.35 92.7512 1056.35 Q86.941 1056.35 83.8623 1051.76 Q80.8068 1047.16 80.8068 1038.43 Q80.8068 1029.68 83.8623 1025.1 Q86.941 1020.49 92.7512 1020.49 Z\" fill=\"#000000\" fill-rule=\"evenodd\" fill-opacity=\"1\" /><path clip-path=\"url(#clip540)\" d=\"M54.3949 825.449 L62.0337 825.449 L62.0337 799.083 L53.7236 800.75 L53.7236 796.491 L61.9874 794.824 L66.6633 794.824 L66.6633 825.449 L74.3022 825.449 L74.3022 829.384 L54.3949 829.384 L54.3949 825.449 Z\" fill=\"#000000\" fill-rule=\"evenodd\" fill-opacity=\"1\" /><path clip-path=\"url(#clip540)\" d=\"M83.7929 794.824 L102.149 794.824 L102.149 798.759 L88.0753 798.759 L88.0753 807.231 Q89.0938 806.884 90.1123 806.722 Q91.1308 806.537 92.1493 806.537 Q97.9363 806.537 101.316 809.708 Q104.696 812.879 104.696 818.296 Q104.696 823.875 101.223 826.977 Q97.7511 830.055 91.4317 830.055 Q89.2558 830.055 86.9873 829.685 Q84.7419 829.315 82.3346 828.574 L82.3346 823.875 Q84.4179 825.009 86.6401 825.565 Q88.8623 826.12 91.3391 826.12 Q95.3437 826.12 97.6817 824.014 Q100.02 821.907 100.02 818.296 Q100.02 814.685 97.6817 812.578 Q95.3437 810.472 91.3391 810.472 Q89.4641 810.472 87.5892 810.889 Q85.7373 811.305 83.7929 812.185 L83.7929 794.824 Z\" fill=\"#000000\" fill-rule=\"evenodd\" fill-opacity=\"1\" /><path clip-path=\"url(#clip540)\" d=\"M56.6171 599.159 L72.9365 599.159 L72.9365 603.094 L50.9921 603.094 L50.9921 599.159 Q53.6541 596.404 58.2375 591.775 Q62.8439 587.122 64.0245 585.779 Q66.2698 583.256 67.1494 581.52 Q68.0522 579.761 68.0522 578.071 Q68.0522 575.316 66.1078 573.58 Q64.1865 571.844 61.0847 571.844 Q58.8856 571.844 56.4319 572.608 Q54.0014 573.372 51.2236 574.923 L51.2236 570.201 Q54.0477 569.066 56.5014 568.488 Q58.955 567.909 60.9921 567.909 Q66.3624 567.909 69.5568 570.594 Q72.7513 573.279 72.7513 577.77 Q72.7513 579.9 71.9411 581.821 Q71.1541 583.719 69.0476 586.312 Q68.4689 586.983 65.367 590.201 Q62.2652 593.395 56.6171 599.159 Z\" fill=\"#000000\" fill-rule=\"evenodd\" fill-opacity=\"1\" /><path clip-path=\"url(#clip540)\" d=\"M92.7512 571.613 Q89.1401 571.613 87.3114 575.178 Q85.5058 578.719 85.5058 585.849 Q85.5058 592.955 87.3114 596.52 Q89.1401 600.062 92.7512 600.062 Q96.3854 600.062 98.1909 596.52 Q100.02 592.955 100.02 585.849 Q100.02 578.719 98.1909 575.178 Q96.3854 571.613 92.7512 571.613 M92.7512 567.909 Q98.5613 567.909 101.617 572.516 Q104.696 577.099 104.696 585.849 Q104.696 594.576 101.617 599.182 Q98.5613 603.765 92.7512 603.765 Q86.941 603.765 83.8623 599.182 Q80.8068 594.576 80.8068 585.849 Q80.8068 577.099 83.8623 572.516 Q86.941 567.909 92.7512 567.909 Z\" fill=\"#000000\" fill-rule=\"evenodd\" fill-opacity=\"1\" /><path clip-path=\"url(#clip540)\" d=\"M57.6125 372.869 L73.9318 372.869 L73.9318 376.804 L51.9875 376.804 L51.9875 372.869 Q54.6495 370.114 59.2328 365.485 Q63.8393 360.832 65.0198 359.489 Q67.2652 356.966 68.1448 355.23 Q69.0476 353.471 69.0476 351.781 Q69.0476 349.027 67.1032 347.29 Q65.1819 345.554 62.08 345.554 Q59.881 345.554 57.4273 346.318 Q54.9967 347.082 52.219 348.633 L52.219 343.911 Q55.043 342.777 57.4967 342.198 Q59.9504 341.619 61.9874 341.619 Q67.3578 341.619 70.5522 344.304 Q73.7466 346.99 73.7466 351.48 Q73.7466 353.61 72.9365 355.531 Q72.1494 357.429 70.0429 360.022 Q69.4642 360.693 66.3624 363.911 Q63.2606 367.105 57.6125 372.869 Z\" fill=\"#000000\" fill-rule=\"evenodd\" fill-opacity=\"1\" /><path clip-path=\"url(#clip540)\" d=\"M83.7929 342.244 L102.149 342.244 L102.149 346.179 L88.0753 346.179 L88.0753 354.652 Q89.0938 354.304 90.1123 354.142 Q91.1308 353.957 92.1493 353.957 Q97.9363 353.957 101.316 357.128 Q104.696 360.3 104.696 365.716 Q104.696 371.295 101.223 374.397 Q97.7511 377.475 91.4317 377.475 Q89.2558 377.475 86.9873 377.105 Q84.7419 376.735 82.3346 375.994 L82.3346 371.295 Q84.4179 372.429 86.6401 372.985 Q88.8623 373.54 91.3391 373.54 Q95.3437 373.54 97.6817 371.434 Q100.02 369.327 100.02 365.716 Q100.02 362.105 97.6817 359.999 Q95.3437 357.892 91.3391 357.892 Q89.4641 357.892 87.5892 358.309 Q85.7373 358.726 83.7929 359.605 L83.7929 342.244 Z\" fill=\"#000000\" fill-rule=\"evenodd\" fill-opacity=\"1\" /><path clip-path=\"url(#clip540)\" d=\"M66.7559 131.88 Q70.1124 132.598 71.9874 134.866 Q73.8855 137.135 73.8855 140.468 Q73.8855 145.584 70.367 148.385 Q66.8485 151.186 60.3671 151.186 Q58.1912 151.186 55.8764 150.746 Q53.5847 150.329 51.131 149.473 L51.131 144.959 Q53.0754 146.093 55.3903 146.672 Q57.7051 147.25 60.2282 147.25 Q64.6263 147.25 66.918 145.514 Q69.2328 143.778 69.2328 140.468 Q69.2328 137.412 67.08 135.7 Q64.9504 133.963 61.131 133.963 L57.1032 133.963 L57.1032 130.121 L61.3161 130.121 Q64.7652 130.121 66.5939 128.755 Q68.4226 127.366 68.4226 124.774 Q68.4226 122.112 66.5245 120.7 Q64.6495 119.264 61.131 119.264 Q59.2097 119.264 57.0106 119.681 Q54.8115 120.098 52.1727 120.977 L52.1727 116.811 Q54.8347 116.07 57.1495 115.7 Q59.4875 115.329 61.5476 115.329 Q66.8717 115.329 69.9735 117.76 Q73.0753 120.167 73.0753 124.288 Q73.0753 127.158 71.4318 129.149 Q69.7883 131.116 66.7559 131.88 Z\" fill=\"#000000\" fill-rule=\"evenodd\" fill-opacity=\"1\" /><path clip-path=\"url(#clip540)\" d=\"M92.7512 119.033 Q89.1401 119.033 87.3114 122.598 Q85.5058 126.139 85.5058 133.269 Q85.5058 140.375 87.3114 143.94 Q89.1401 147.482 92.7512 147.482 Q96.3854 147.482 98.1909 143.94 Q100.02 140.375 100.02 133.269 Q100.02 126.139 98.1909 122.598 Q96.3854 119.033 92.7512 119.033 M92.7512 115.329 Q98.5613 115.329 101.617 119.936 Q104.696 124.519 104.696 133.269 Q104.696 141.996 101.617 146.602 Q98.5613 151.186 92.7512 151.186 Q86.941 151.186 83.8623 146.602 Q80.8068 141.996 80.8068 133.269 Q80.8068 124.519 83.8623 119.936 Q86.941 115.329 92.7512 115.329 Z\" fill=\"#000000\" fill-rule=\"evenodd\" fill-opacity=\"1\" /><polyline clip-path=\"url(#clip542)\" style=\"stroke:#009af9; stroke-linecap:butt; stroke-linejoin:round; stroke-width:4; stroke-opacity:1; fill:none\" points=\"\n",
       "  203.301,540.556 411.986,902.62 620.671,1174.17 829.356,1355.2 1038.04,1445.72 1246.73,1445.72 1455.41,1355.2 1664.1,1174.17 1872.78,902.62 2081.47,540.556 \n",
       "  2290.15,87.9763 \n",
       "  \"/>\n",
       "<path clip-path=\"url(#clip540)\" d=\"\n",
       "M1980.81 216.178 L2279.02 216.178 L2279.02 95.2176 L1980.81 95.2176  Z\n",
       "  \" fill=\"#ffffff\" fill-rule=\"evenodd\" fill-opacity=\"1\"/>\n",
       "<polyline clip-path=\"url(#clip540)\" style=\"stroke:#000000; stroke-linecap:butt; stroke-linejoin:round; stroke-width:4; stroke-opacity:1; fill:none\" points=\"\n",
       "  1980.81,216.178 2279.02,216.178 2279.02,95.2176 1980.81,95.2176 1980.81,216.178 \n",
       "  \"/>\n",
       "<polyline clip-path=\"url(#clip540)\" style=\"stroke:#009af9; stroke-linecap:butt; stroke-linejoin:round; stroke-width:4; stroke-opacity:1; fill:none\" points=\"\n",
       "  2005.38,155.698 2152.85,155.698 \n",
       "  \"/>\n",
       "<path clip-path=\"url(#clip540)\" d=\"M2191.28 175.385 Q2189.47 180.015 2187.76 181.427 Q2186.04 182.839 2183.17 182.839 L2179.77 182.839 L2179.77 179.274 L2182.27 179.274 Q2184.03 179.274 2185 178.44 Q2185.98 177.607 2187.16 174.505 L2187.92 172.561 L2177.43 147.052 L2181.95 147.052 L2190.05 167.329 L2198.15 147.052 L2202.66 147.052 L2191.28 175.385 Z\" fill=\"#000000\" fill-rule=\"evenodd\" fill-opacity=\"1\" /><path clip-path=\"url(#clip540)\" d=\"M2209.96 169.042 L2217.6 169.042 L2217.6 142.677 L2209.29 144.343 L2209.29 140.084 L2217.55 138.418 L2222.22 138.418 L2222.22 169.042 L2229.86 169.042 L2229.86 172.978 L2209.96 172.978 L2209.96 169.042 Z\" fill=\"#000000\" fill-rule=\"evenodd\" fill-opacity=\"1\" /></svg>\n"
      ]
     },
     "execution_count": 26,
     "metadata": {},
     "output_type": "execute_result"
    }
   ],
   "source": [
    "# Create variables a, b and c, assigning each the value 1\n",
    "a = 1\n",
    "b = 1\n",
    "c = 1\n",
    "\n",
    "# Plot the function parabfit, for x values between -5 and 5 \n",
    "x = [i for i in range(-5,stop = 5)]\n",
    "plot(x,parabfit)"
   ]
  },
  {
   "cell_type": "markdown",
   "metadata": {},
   "source": [
    "Now we choose a, b, c and plot the curve together with the points. \n",
    "\n",
    "Note that by looking at where the data points lie, we can deduce some of the properties for a, b, c, as follows.\n",
    "\n",
    "The plot must have a y-intersection that is close to 0, so c is close to 0. Also, the parabola is open downwards, so a must be negative. Finally, it has its maximum at a positive x, so b must be positive. \n",
    "\n",
    "Use plot() to start with the scatter plot and plot!() to add the curve for parabfit. (There are other ways to do this ...)"
   ]
  },
  {
   "cell_type": "code",
   "execution_count": 27,
   "metadata": {},
   "outputs": [
    {
     "data": {
      "image/svg+xml": [
       "<?xml version=\"1.0\" encoding=\"utf-8\"?>\n",
       "<svg xmlns=\"http://www.w3.org/2000/svg\" xmlns:xlink=\"http://www.w3.org/1999/xlink\" width=\"600\" height=\"400\" viewBox=\"0 0 2400 1600\">\n",
       "<defs>\n",
       "  <clipPath id=\"clip580\">\n",
       "    <rect x=\"0\" y=\"0\" width=\"2400\" height=\"1600\"/>\n",
       "  </clipPath>\n",
       "</defs>\n",
       "<path clip-path=\"url(#clip580)\" d=\"\n",
       "M0 1600 L2400 1600 L2400 0 L0 0  Z\n",
       "  \" fill=\"#ffffff\" fill-rule=\"evenodd\" fill-opacity=\"1\"/>\n",
       "<defs>\n",
       "  <clipPath id=\"clip581\">\n",
       "    <rect x=\"480\" y=\"0\" width=\"1681\" height=\"1600\"/>\n",
       "  </clipPath>\n",
       "</defs>\n",
       "<path clip-path=\"url(#clip580)\" d=\"\n",
       "M178.867 1486.45 L2352.76 1486.45 L2352.76 47.2441 L178.867 47.2441  Z\n",
       "  \" fill=\"#ffffff\" fill-rule=\"evenodd\" fill-opacity=\"1\"/>\n",
       "<defs>\n",
       "  <clipPath id=\"clip582\">\n",
       "    <rect x=\"178\" y=\"47\" width=\"2175\" height=\"1440\"/>\n",
       "  </clipPath>\n",
       "</defs>\n",
       "<polyline clip-path=\"url(#clip582)\" style=\"stroke:#000000; stroke-linecap:butt; stroke-linejoin:round; stroke-width:2; stroke-opacity:0.1; fill:none\" points=\"\n",
       "  445.476,1486.45 445.476,47.2441 \n",
       "  \"/>\n",
       "<polyline clip-path=\"url(#clip582)\" style=\"stroke:#000000; stroke-linecap:butt; stroke-linejoin:round; stroke-width:2; stroke-opacity:0.1; fill:none\" points=\"\n",
       "  855.643,1486.45 855.643,47.2441 \n",
       "  \"/>\n",
       "<polyline clip-path=\"url(#clip582)\" style=\"stroke:#000000; stroke-linecap:butt; stroke-linejoin:round; stroke-width:2; stroke-opacity:0.1; fill:none\" points=\"\n",
       "  1265.81,1486.45 1265.81,47.2441 \n",
       "  \"/>\n",
       "<polyline clip-path=\"url(#clip582)\" style=\"stroke:#000000; stroke-linecap:butt; stroke-linejoin:round; stroke-width:2; stroke-opacity:0.1; fill:none\" points=\"\n",
       "  1675.98,1486.45 1675.98,47.2441 \n",
       "  \"/>\n",
       "<polyline clip-path=\"url(#clip582)\" style=\"stroke:#000000; stroke-linecap:butt; stroke-linejoin:round; stroke-width:2; stroke-opacity:0.1; fill:none\" points=\"\n",
       "  2086.15,1486.45 2086.15,47.2441 \n",
       "  \"/>\n",
       "<polyline clip-path=\"url(#clip580)\" style=\"stroke:#000000; stroke-linecap:butt; stroke-linejoin:round; stroke-width:4; stroke-opacity:1; fill:none\" points=\"\n",
       "  178.867,1486.45 2352.76,1486.45 \n",
       "  \"/>\n",
       "<polyline clip-path=\"url(#clip580)\" style=\"stroke:#000000; stroke-linecap:butt; stroke-linejoin:round; stroke-width:4; stroke-opacity:1; fill:none\" points=\"\n",
       "  445.476,1486.45 445.476,1469.18 \n",
       "  \"/>\n",
       "<polyline clip-path=\"url(#clip580)\" style=\"stroke:#000000; stroke-linecap:butt; stroke-linejoin:round; stroke-width:4; stroke-opacity:1; fill:none\" points=\"\n",
       "  855.643,1486.45 855.643,1469.18 \n",
       "  \"/>\n",
       "<polyline clip-path=\"url(#clip580)\" style=\"stroke:#000000; stroke-linecap:butt; stroke-linejoin:round; stroke-width:4; stroke-opacity:1; fill:none\" points=\"\n",
       "  1265.81,1486.45 1265.81,1469.18 \n",
       "  \"/>\n",
       "<polyline clip-path=\"url(#clip580)\" style=\"stroke:#000000; stroke-linecap:butt; stroke-linejoin:round; stroke-width:4; stroke-opacity:1; fill:none\" points=\"\n",
       "  1675.98,1486.45 1675.98,1469.18 \n",
       "  \"/>\n",
       "<polyline clip-path=\"url(#clip580)\" style=\"stroke:#000000; stroke-linecap:butt; stroke-linejoin:round; stroke-width:4; stroke-opacity:1; fill:none\" points=\"\n",
       "  2086.15,1486.45 2086.15,1469.18 \n",
       "  \"/>\n",
       "<path clip-path=\"url(#clip580)\" d=\"M414.376 1530.29 L444.052 1530.29 L444.052 1534.23 L414.376 1534.23 L414.376 1530.29 Z\" fill=\"#000000\" fill-rule=\"evenodd\" fill-opacity=\"1\" /><path clip-path=\"url(#clip580)\" d=\"M466.992 1516.63 L455.186 1535.08 L466.992 1535.08 L466.992 1516.63 M465.765 1512.56 L471.645 1512.56 L471.645 1535.08 L476.575 1535.08 L476.575 1538.97 L471.645 1538.97 L471.645 1547.12 L466.992 1547.12 L466.992 1538.97 L451.39 1538.97 L451.39 1534.46 L465.765 1512.56 Z\" fill=\"#000000\" fill-rule=\"evenodd\" fill-opacity=\"1\" /><path clip-path=\"url(#clip580)\" d=\"M825.586 1530.29 L855.262 1530.29 L855.262 1534.23 L825.586 1534.23 L825.586 1530.29 Z\" fill=\"#000000\" fill-rule=\"evenodd\" fill-opacity=\"1\" /><path clip-path=\"url(#clip580)\" d=\"M869.382 1543.18 L885.701 1543.18 L885.701 1547.12 L863.757 1547.12 L863.757 1543.18 Q866.419 1540.43 871.002 1535.8 Q875.609 1531.15 876.789 1529.81 Q879.035 1527.28 879.914 1525.55 Q880.817 1523.79 880.817 1522.1 Q880.817 1519.34 878.873 1517.61 Q876.951 1515.87 873.849 1515.87 Q871.65 1515.87 869.197 1516.63 Q866.766 1517.4 863.988 1518.95 L863.988 1514.23 Q866.812 1513.09 869.266 1512.51 Q871.72 1511.93 873.757 1511.93 Q879.127 1511.93 882.322 1514.62 Q885.516 1517.31 885.516 1521.8 Q885.516 1523.93 884.706 1525.85 Q883.919 1527.74 881.812 1530.34 Q881.234 1531.01 878.132 1534.23 Q875.03 1537.42 869.382 1543.18 Z\" fill=\"#000000\" fill-rule=\"evenodd\" fill-opacity=\"1\" /><path clip-path=\"url(#clip580)\" d=\"M1265.81 1515.64 Q1262.2 1515.64 1260.37 1519.2 Q1258.57 1522.75 1258.57 1529.87 Q1258.57 1536.98 1260.37 1540.55 Q1262.2 1544.09 1265.81 1544.09 Q1269.45 1544.09 1271.25 1540.55 Q1273.08 1536.98 1273.08 1529.87 Q1273.08 1522.75 1271.25 1519.2 Q1269.45 1515.64 1265.81 1515.64 M1265.81 1511.93 Q1271.62 1511.93 1274.68 1516.54 Q1277.76 1521.12 1277.76 1529.87 Q1277.76 1538.6 1274.68 1543.21 Q1271.62 1547.79 1265.81 1547.79 Q1260 1547.79 1256.92 1543.21 Q1253.87 1538.6 1253.87 1529.87 Q1253.87 1521.12 1256.92 1516.54 Q1260 1511.93 1265.81 1511.93 Z\" fill=\"#000000\" fill-rule=\"evenodd\" fill-opacity=\"1\" /><path clip-path=\"url(#clip580)\" d=\"M1670.63 1543.18 L1686.95 1543.18 L1686.95 1547.12 L1665.01 1547.12 L1665.01 1543.18 Q1667.67 1540.43 1672.25 1535.8 Q1676.86 1531.15 1678.04 1529.81 Q1680.28 1527.28 1681.16 1525.55 Q1682.07 1523.79 1682.07 1522.1 Q1682.07 1519.34 1680.12 1517.61 Q1678.2 1515.87 1675.1 1515.87 Q1672.9 1515.87 1670.45 1516.63 Q1668.02 1517.4 1665.24 1518.95 L1665.24 1514.23 Q1668.06 1513.09 1670.52 1512.51 Q1672.97 1511.93 1675.01 1511.93 Q1680.38 1511.93 1683.57 1514.62 Q1686.77 1517.31 1686.77 1521.8 Q1686.77 1523.93 1685.96 1525.85 Q1685.17 1527.74 1683.06 1530.34 Q1682.48 1531.01 1679.38 1534.23 Q1676.28 1537.42 1670.63 1543.18 Z\" fill=\"#000000\" fill-rule=\"evenodd\" fill-opacity=\"1\" /><path clip-path=\"url(#clip580)\" d=\"M2089.16 1516.63 L2077.35 1535.08 L2089.16 1535.08 L2089.16 1516.63 M2087.93 1512.56 L2093.81 1512.56 L2093.81 1535.08 L2098.74 1535.08 L2098.74 1538.97 L2093.81 1538.97 L2093.81 1547.12 L2089.16 1547.12 L2089.16 1538.97 L2073.55 1538.97 L2073.55 1534.46 L2087.93 1512.56 Z\" fill=\"#000000\" fill-rule=\"evenodd\" fill-opacity=\"1\" /><polyline clip-path=\"url(#clip582)\" style=\"stroke:#000000; stroke-linecap:butt; stroke-linejoin:round; stroke-width:2; stroke-opacity:0.1; fill:none\" points=\"\n",
       "  178.867,1445.72 2352.76,1445.72 \n",
       "  \"/>\n",
       "<polyline clip-path=\"url(#clip582)\" style=\"stroke:#000000; stroke-linecap:butt; stroke-linejoin:round; stroke-width:2; stroke-opacity:0.1; fill:none\" points=\"\n",
       "  178.867,1019.97 2352.76,1019.97 \n",
       "  \"/>\n",
       "<polyline clip-path=\"url(#clip582)\" style=\"stroke:#000000; stroke-linecap:butt; stroke-linejoin:round; stroke-width:2; stroke-opacity:0.1; fill:none\" points=\"\n",
       "  178.867,594.228 2352.76,594.228 \n",
       "  \"/>\n",
       "<polyline clip-path=\"url(#clip582)\" style=\"stroke:#000000; stroke-linecap:butt; stroke-linejoin:round; stroke-width:2; stroke-opacity:0.1; fill:none\" points=\"\n",
       "  178.867,168.484 2352.76,168.484 \n",
       "  \"/>\n",
       "<polyline clip-path=\"url(#clip580)\" style=\"stroke:#000000; stroke-linecap:butt; stroke-linejoin:round; stroke-width:4; stroke-opacity:1; fill:none\" points=\"\n",
       "  178.867,1486.45 178.867,47.2441 \n",
       "  \"/>\n",
       "<polyline clip-path=\"url(#clip580)\" style=\"stroke:#000000; stroke-linecap:butt; stroke-linejoin:round; stroke-width:4; stroke-opacity:1; fill:none\" points=\"\n",
       "  178.867,1445.72 204.953,1445.72 \n",
       "  \"/>\n",
       "<polyline clip-path=\"url(#clip580)\" style=\"stroke:#000000; stroke-linecap:butt; stroke-linejoin:round; stroke-width:4; stroke-opacity:1; fill:none\" points=\"\n",
       "  178.867,1019.97 204.953,1019.97 \n",
       "  \"/>\n",
       "<polyline clip-path=\"url(#clip580)\" style=\"stroke:#000000; stroke-linecap:butt; stroke-linejoin:round; stroke-width:4; stroke-opacity:1; fill:none\" points=\"\n",
       "  178.867,594.228 204.953,594.228 \n",
       "  \"/>\n",
       "<polyline clip-path=\"url(#clip580)\" style=\"stroke:#000000; stroke-linecap:butt; stroke-linejoin:round; stroke-width:4; stroke-opacity:1; fill:none\" points=\"\n",
       "  178.867,168.484 204.953,168.484 \n",
       "  \"/>\n",
       "<path clip-path=\"url(#clip580)\" d=\"M50.9921 1446.17 L80.6679 1446.17 L80.6679 1450.1 L50.9921 1450.1 L50.9921 1446.17 Z\" fill=\"#000000\" fill-rule=\"evenodd\" fill-opacity=\"1\" /><path clip-path=\"url(#clip580)\" d=\"M104.927 1444.36 Q108.283 1445.08 110.158 1447.35 Q112.057 1449.62 112.057 1452.95 Q112.057 1458.07 108.538 1460.87 Q105.02 1463.67 98.5382 1463.67 Q96.3623 1463.67 94.0475 1463.23 Q91.7558 1462.81 89.3021 1461.95 L89.3021 1457.44 Q91.2465 1458.57 93.5613 1459.15 Q95.8761 1459.73 98.3993 1459.73 Q102.797 1459.73 105.089 1458 Q107.404 1456.26 107.404 1452.95 Q107.404 1449.89 105.251 1448.18 Q103.121 1446.44 99.3021 1446.44 L95.2743 1446.44 L95.2743 1442.6 L99.4872 1442.6 Q102.936 1442.6 104.765 1441.24 Q106.594 1439.85 106.594 1437.26 Q106.594 1434.59 104.696 1433.18 Q102.821 1431.75 99.3021 1431.75 Q97.3808 1431.75 95.1817 1432.16 Q92.9826 1432.58 90.3438 1433.46 L90.3438 1429.29 Q93.0058 1428.55 95.3206 1428.18 Q97.6585 1427.81 99.7187 1427.81 Q105.043 1427.81 108.145 1430.24 Q111.246 1432.65 111.246 1436.77 Q111.246 1439.64 109.603 1441.63 Q107.959 1443.6 104.927 1444.36 Z\" fill=\"#000000\" fill-rule=\"evenodd\" fill-opacity=\"1\" /><path clip-path=\"url(#clip580)\" d=\"M130.922 1431.51 Q127.311 1431.51 125.482 1435.08 Q123.677 1438.62 123.677 1445.75 Q123.677 1452.86 125.482 1456.42 Q127.311 1459.96 130.922 1459.96 Q134.556 1459.96 136.362 1456.42 Q138.191 1452.86 138.191 1445.75 Q138.191 1438.62 136.362 1435.08 Q134.556 1431.51 130.922 1431.51 M130.922 1427.81 Q136.732 1427.81 139.788 1432.42 Q142.867 1437 142.867 1445.75 Q142.867 1454.48 139.788 1459.08 Q136.732 1463.67 130.922 1463.67 Q125.112 1463.67 122.033 1459.08 Q118.978 1454.48 118.978 1445.75 Q118.978 1437 122.033 1432.42 Q125.112 1427.81 130.922 1427.81 Z\" fill=\"#000000\" fill-rule=\"evenodd\" fill-opacity=\"1\" /><path clip-path=\"url(#clip580)\" d=\"M50.9921 1020.42 L80.6679 1020.42 L80.6679 1024.36 L50.9921 1024.36 L50.9921 1020.42 Z\" fill=\"#000000\" fill-rule=\"evenodd\" fill-opacity=\"1\" /><path clip-path=\"url(#clip580)\" d=\"M94.7882 1033.32 L111.108 1033.32 L111.108 1037.25 L89.1632 1037.25 L89.1632 1033.32 Q91.8252 1030.56 96.4085 1025.93 Q101.015 1021.28 102.196 1019.94 Q104.441 1017.41 105.321 1015.68 Q106.223 1013.92 106.223 1012.23 Q106.223 1009.47 104.279 1007.74 Q102.358 1006 99.2558 1006 Q97.0567 1006 94.603 1006.77 Q92.1725 1007.53 89.3947 1009.08 L89.3947 1004.36 Q92.2188 1003.22 94.6724 1002.65 Q97.1261 1002.07 99.1632 1002.07 Q104.534 1002.07 107.728 1004.75 Q110.922 1007.44 110.922 1011.93 Q110.922 1014.06 110.112 1015.98 Q109.325 1017.88 107.219 1020.47 Q106.64 1021.14 103.538 1024.36 Q100.436 1027.55 94.7882 1033.32 Z\" fill=\"#000000\" fill-rule=\"evenodd\" fill-opacity=\"1\" /><path clip-path=\"url(#clip580)\" d=\"M130.922 1005.77 Q127.311 1005.77 125.482 1009.34 Q123.677 1012.88 123.677 1020.01 Q123.677 1027.11 125.482 1030.68 Q127.311 1034.22 130.922 1034.22 Q134.556 1034.22 136.362 1030.68 Q138.191 1027.11 138.191 1020.01 Q138.191 1012.88 136.362 1009.34 Q134.556 1005.77 130.922 1005.77 M130.922 1002.07 Q136.732 1002.07 139.788 1006.67 Q142.867 1011.26 142.867 1020.01 Q142.867 1028.73 139.788 1033.34 Q136.732 1037.92 130.922 1037.92 Q125.112 1037.92 122.033 1033.34 Q118.978 1028.73 118.978 1020.01 Q118.978 1011.26 122.033 1006.67 Q125.112 1002.07 130.922 1002.07 Z\" fill=\"#000000\" fill-rule=\"evenodd\" fill-opacity=\"1\" /><path clip-path=\"url(#clip580)\" d=\"M50.9921 594.68 L80.6679 594.68 L80.6679 598.615 L50.9921 598.615 L50.9921 594.68 Z\" fill=\"#000000\" fill-rule=\"evenodd\" fill-opacity=\"1\" /><path clip-path=\"url(#clip580)\" d=\"M91.5706 607.573 L99.2095 607.573 L99.2095 581.207 L90.8993 582.874 L90.8993 578.615 L99.1632 576.948 L103.839 576.948 L103.839 607.573 L111.478 607.573 L111.478 611.508 L91.5706 611.508 L91.5706 607.573 Z\" fill=\"#000000\" fill-rule=\"evenodd\" fill-opacity=\"1\" /><path clip-path=\"url(#clip580)\" d=\"M130.922 580.027 Q127.311 580.027 125.482 583.592 Q123.677 587.133 123.677 594.263 Q123.677 601.369 125.482 604.934 Q127.311 608.476 130.922 608.476 Q134.556 608.476 136.362 604.934 Q138.191 601.369 138.191 594.263 Q138.191 587.133 136.362 583.592 Q134.556 580.027 130.922 580.027 M130.922 576.323 Q136.732 576.323 139.788 580.93 Q142.867 585.513 142.867 594.263 Q142.867 602.99 139.788 607.596 Q136.732 612.179 130.922 612.179 Q125.112 612.179 122.033 607.596 Q118.978 602.99 118.978 594.263 Q118.978 585.513 122.033 580.93 Q125.112 576.323 130.922 576.323 Z\" fill=\"#000000\" fill-rule=\"evenodd\" fill-opacity=\"1\" /><path clip-path=\"url(#clip580)\" d=\"M130.922 154.283 Q127.311 154.283 125.482 157.848 Q123.677 161.39 123.677 168.519 Q123.677 175.626 125.482 179.19 Q127.311 182.732 130.922 182.732 Q134.556 182.732 136.362 179.19 Q138.191 175.626 138.191 168.519 Q138.191 161.39 136.362 157.848 Q134.556 154.283 130.922 154.283 M130.922 150.579 Q136.732 150.579 139.788 155.186 Q142.867 159.769 142.867 168.519 Q142.867 177.246 139.788 181.852 Q136.732 186.436 130.922 186.436 Q125.112 186.436 122.033 181.852 Q118.978 177.246 118.978 168.519 Q118.978 159.769 122.033 155.186 Q125.112 150.579 130.922 150.579 Z\" fill=\"#000000\" fill-rule=\"evenodd\" fill-opacity=\"1\" /><circle clip-path=\"url(#clip582)\" cx=\"240.392\" cy=\"238.379\" r=\"14\" fill=\"#009af9\" fill-rule=\"evenodd\" fill-opacity=\"1\" stroke=\"#000000\" stroke-opacity=\"1\" stroke-width=\"3.2\"/>\n",
       "<circle clip-path=\"url(#clip582)\" cx=\"445.476\" cy=\"210.109\" r=\"14\" fill=\"#009af9\" fill-rule=\"evenodd\" fill-opacity=\"1\" stroke=\"#000000\" stroke-opacity=\"1\" stroke-width=\"3.2\"/>\n",
       "<circle clip-path=\"url(#clip582)\" cx=\"650.56\" cy=\"146.017\" r=\"14\" fill=\"#009af9\" fill-rule=\"evenodd\" fill-opacity=\"1\" stroke=\"#000000\" stroke-opacity=\"1\" stroke-width=\"3.2\"/>\n",
       "<circle clip-path=\"url(#clip582)\" cx=\"855.643\" cy=\"95.6173\" r=\"14\" fill=\"#009af9\" fill-rule=\"evenodd\" fill-opacity=\"1\" stroke=\"#000000\" stroke-opacity=\"1\" stroke-width=\"3.2\"/>\n",
       "<circle clip-path=\"url(#clip582)\" cx=\"1060.73\" cy=\"87.9763\" r=\"14\" fill=\"#009af9\" fill-rule=\"evenodd\" fill-opacity=\"1\" stroke=\"#000000\" stroke-opacity=\"1\" stroke-width=\"3.2\"/>\n",
       "<circle clip-path=\"url(#clip582)\" cx=\"1265.81\" cy=\"188.215\" r=\"14\" fill=\"#009af9\" fill-rule=\"evenodd\" fill-opacity=\"1\" stroke=\"#000000\" stroke-opacity=\"1\" stroke-width=\"3.2\"/>\n",
       "<circle clip-path=\"url(#clip582)\" cx=\"1470.9\" cy=\"187.369\" r=\"14\" fill=\"#009af9\" fill-rule=\"evenodd\" fill-opacity=\"1\" stroke=\"#000000\" stroke-opacity=\"1\" stroke-width=\"3.2\"/>\n",
       "<circle clip-path=\"url(#clip582)\" cx=\"1675.98\" cy=\"222.774\" r=\"14\" fill=\"#009af9\" fill-rule=\"evenodd\" fill-opacity=\"1\" stroke=\"#000000\" stroke-opacity=\"1\" stroke-width=\"3.2\"/>\n",
       "<circle clip-path=\"url(#clip582)\" cx=\"1881.06\" cy=\"197.882\" r=\"14\" fill=\"#009af9\" fill-rule=\"evenodd\" fill-opacity=\"1\" stroke=\"#000000\" stroke-opacity=\"1\" stroke-width=\"3.2\"/>\n",
       "<circle clip-path=\"url(#clip582)\" cx=\"2086.15\" cy=\"403.33\" r=\"14\" fill=\"#009af9\" fill-rule=\"evenodd\" fill-opacity=\"1\" stroke=\"#000000\" stroke-opacity=\"1\" stroke-width=\"3.2\"/>\n",
       "<circle clip-path=\"url(#clip582)\" cx=\"2291.23\" cy=\"424.003\" r=\"14\" fill=\"#009af9\" fill-rule=\"evenodd\" fill-opacity=\"1\" stroke=\"#000000\" stroke-opacity=\"1\" stroke-width=\"3.2\"/>\n",
       "<polyline clip-path=\"url(#clip582)\" style=\"stroke:#e26f46; stroke-linecap:butt; stroke-linejoin:round; stroke-width:4; stroke-opacity:1; fill:none\" points=\"\n",
       "  240.392,1445.72 445.476,1019.97 650.56,679.377 855.643,423.931 1060.73,253.633 1265.81,168.484 1470.9,168.484 1675.98,253.633 1881.06,423.931 2086.15,679.377 \n",
       "  2291.23,1019.97 \n",
       "  \"/>\n",
       "</svg>\n"
      ]
     },
     "execution_count": 27,
     "metadata": {},
     "output_type": "execute_result"
    }
   ],
   "source": [
    "# More plot!() tries.\n",
    "a,b,c = -1, 1, 0\n",
    "scatter(x, y,  legend=:false)\n",
    "plot!(x, parabfit)"
   ]
  }
 ],
 "metadata": {
  "kernelspec": {
   "display_name": "Julia 1.6.1",
   "language": "julia",
   "name": "julia-1.6"
  },
  "language_info": {
   "file_extension": ".jl",
   "mimetype": "application/julia",
   "name": "julia",
   "version": "1.6.1"
  }
 },
 "nbformat": 4,
 "nbformat_minor": 1
}
